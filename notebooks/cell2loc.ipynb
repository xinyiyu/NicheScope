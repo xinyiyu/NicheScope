{
 "cells": [
  {
   "cell_type": "code",
   "execution_count": 1,
   "id": "7aa83e19-56a4-4c02-ab59-2fef0d0b55c5",
   "metadata": {
    "collapsed": true,
    "jupyter": {
     "outputs_hidden": true
    }
   },
   "outputs": [
    {
     "name": "stderr",
     "output_type": "stream",
     "text": [
      "/home/xiaojiashun/anaconda3/envs/cell2loc_env/lib/python3.10/site-packages/tqdm/auto.py:21: TqdmWarning: IProgress not found. Please update jupyter and ipywidgets. See https://ipywidgets.readthedocs.io/en/stable/user_install.html\n",
      "  from .autonotebook import tqdm as notebook_tqdm\n",
      "/home/xiaojiashun/anaconda3/envs/cell2loc_env/lib/python3.10/site-packages/anndata/utils.py:429: FutureWarning: Importing read_csv from `anndata` is deprecated. Import anndata.io.read_csv instead.\n",
      "  warnings.warn(msg, FutureWarning)\n",
      "/home/xiaojiashun/anaconda3/envs/cell2loc_env/lib/python3.10/site-packages/anndata/utils.py:429: FutureWarning: Importing read_loom from `anndata` is deprecated. Import anndata.io.read_loom instead.\n",
      "  warnings.warn(msg, FutureWarning)\n",
      "/home/xiaojiashun/anaconda3/envs/cell2loc_env/lib/python3.10/site-packages/anndata/utils.py:429: FutureWarning: Importing read_text from `anndata` is deprecated. Import anndata.io.read_text instead.\n",
      "  warnings.warn(msg, FutureWarning)\n",
      "/home/xiaojiashun/anaconda3/envs/cell2loc_env/lib/python3.10/site-packages/anndata/utils.py:429: FutureWarning: Importing CSCDataset from `anndata.experimental` is deprecated. Import anndata.abc.CSCDataset instead.\n",
      "  warnings.warn(msg, FutureWarning)\n",
      "/home/xiaojiashun/anaconda3/envs/cell2loc_env/lib/python3.10/site-packages/anndata/utils.py:429: FutureWarning: Importing CSRDataset from `anndata.experimental` is deprecated. Import anndata.abc.CSRDataset instead.\n",
      "  warnings.warn(msg, FutureWarning)\n",
      "/home/xiaojiashun/anaconda3/envs/cell2loc_env/lib/python3.10/site-packages/anndata/utils.py:429: FutureWarning: Importing read_elem from `anndata.experimental` is deprecated. Import anndata.io.read_elem instead.\n",
      "  warnings.warn(msg, FutureWarning)\n",
      "/home/xiaojiashun/anaconda3/envs/cell2loc_env/lib/python3.10/site-packages/docrep/decorators.py:43: SyntaxWarning: 'param_categorical_covariate_keys' is not a valid key!\n",
      "  doc = func(self, args[0].__doc__, *args[1:], **kwargs)\n"
     ]
    }
   ],
   "source": [
    "import os, sys, time, tqdm\n",
    "import numpy as np\n",
    "import pandas as pd\n",
    "import pathlib\n",
    "import matplotlib.pyplot as plt\n",
    "import matplotlib as mpl\n",
    "import seaborn as sns\n",
    "import scanpy as sc\n",
    "import cell2location"
   ]
  },
  {
   "cell_type": "markdown",
   "id": "08f7a4d0-1729-4124-9dd6-c219026a92bd",
   "metadata": {},
   "source": [
    "# Ref model"
   ]
  },
  {
   "cell_type": "code",
   "execution_count": 2,
   "id": "2e6a6202-06db-4e4d-b8cb-8f0d1d1d299d",
   "metadata": {},
   "outputs": [],
   "source": [
    "# create paths and names to results folders for reference regression and cell2location models\n",
    "ref_dir = f'/data2/xiaojiashun/niche/data/lymph_nodes_analysis/reference_signatures'\n",
    "data_dir = f'/data2/xiaojiashun/niche/data/Xenium/Xenium_Prime_Human_Lymph_Node_Reactive_FFPE_outs/three_crops'"
   ]
  },
  {
   "cell_type": "code",
   "execution_count": 3,
   "id": "5a32067b-8a08-4173-a088-c56860981e25",
   "metadata": {
    "collapsed": true,
    "jupyter": {
     "outputs_hidden": true
    }
   },
   "outputs": [
    {
     "name": "stdout",
     "output_type": "stream",
     "text": [
      "\u001b[34mINFO    \u001b[0m File \u001b[35m/data2/xiaojiashun/niche/data/lymph_nodes_analysis/reference_signatures/\u001b[0m\u001b[95mmodel.pt\u001b[0m already downloaded  \n"
     ]
    },
    {
     "name": "stderr",
     "output_type": "stream",
     "text": [
      "/home/xiaojiashun/anaconda3/envs/cell2loc_env/lib/python3.10/site-packages/scvi/model/base/_save_load.py:76: FutureWarning: You are using `torch.load` with `weights_only=False` (the current default value), which uses the default pickle module implicitly. It is possible to construct malicious pickle data which will execute arbitrary code during unpickling (See https://github.com/pytorch/pytorch/blob/main/SECURITY.md#untrusted-models for more details). In a future release, the default value for `weights_only` will be flipped to `True`. This limits the functions that could be executed during unpickling. Arbitrary objects will no longer be allowed to be loaded via this mode unless they are explicitly allowlisted by the user via `torch.serialization.add_safe_globals`. We recommend you start setting `weights_only=True` for any use case where you don't have full control of the loaded file. Please open an issue on GitHub for any issues related to this experimental feature.\n",
      "  model = torch.load(model_path, map_location=map_location)\n",
      "GPU available: True (cuda), used: True\n",
      "TPU available: False, using: 0 TPU cores\n",
      "HPU available: False, using: 0 HPUs\n",
      "/home/xiaojiashun/anaconda3/envs/cell2loc_env/lib/python3.10/site-packages/lightning/pytorch/trainer/configuration_validator.py:68: You passed in a `val_dataloader` but have no `validation_step`. Skipping val loop.\n",
      "You are using a CUDA device ('NVIDIA GeForce RTX 3090') that has Tensor Cores. To properly utilize them, you should set `torch.set_float32_matmul_precision('medium' | 'high')` which will trade-off precision for performance. For more details, read https://pytorch.org/docs/stable/generated/torch.set_float32_matmul_precision.html#torch.set_float32_matmul_precision\n",
      "LOCAL_RANK: 0 - CUDA_VISIBLE_DEVICES: [0]\n",
      "/home/xiaojiashun/anaconda3/envs/cell2loc_env/lib/python3.10/site-packages/lightning/pytorch/trainer/connectors/data_connector.py:424: The 'train_dataloader' does not have many workers which may be a bottleneck. Consider increasing the value of the `num_workers` argument` to `num_workers=31` in the `DataLoader` to improve performance.\n"
     ]
    },
    {
     "name": "stdout",
     "output_type": "stream",
     "text": [
      "Epoch 1/273:   0%|▎                                                                                                | 1/273 [00:00<01:05,  4.15it/s, v_num=1]"
     ]
    },
    {
     "name": "stderr",
     "output_type": "stream",
     "text": [
      "`Trainer.fit` stopped: `max_steps=1` reached.\n"
     ]
    },
    {
     "name": "stdout",
     "output_type": "stream",
     "text": [
      "\n",
      "poch 1/273:   0%|▎                                                                                                | 1/273 [00:00<01:08,  3.98it/s, v_num=1]"
     ]
    }
   ],
   "source": [
    "adata_file = f\"{ref_dir}/sc.h5ad\"\n",
    "adata_ref = sc.read_h5ad(adata_file)\n",
    "mod = cell2location.models.RegressionModel.load(ref_dir, adata_ref)"
   ]
  },
  {
   "cell_type": "code",
   "execution_count": 4,
   "id": "1f05ff1e-5ee7-4fc0-b656-14c59acdb355",
   "metadata": {},
   "outputs": [
    {
     "data": {
      "text/html": [
       "<div>\n",
       "<style scoped>\n",
       "    .dataframe tbody tr th:only-of-type {\n",
       "        vertical-align: middle;\n",
       "    }\n",
       "\n",
       "    .dataframe tbody tr th {\n",
       "        vertical-align: top;\n",
       "    }\n",
       "\n",
       "    .dataframe thead th {\n",
       "        text-align: right;\n",
       "    }\n",
       "</style>\n",
       "<table border=\"1\" class=\"dataframe\">\n",
       "  <thead>\n",
       "    <tr style=\"text-align: right;\">\n",
       "      <th></th>\n",
       "      <th>B_Cycling</th>\n",
       "      <th>B_GC_DZ</th>\n",
       "      <th>B_GC_LZ</th>\n",
       "      <th>B_GC_prePB</th>\n",
       "      <th>B_IFN</th>\n",
       "    </tr>\n",
       "    <tr>\n",
       "      <th>GeneID-2</th>\n",
       "      <th></th>\n",
       "      <th></th>\n",
       "      <th></th>\n",
       "      <th></th>\n",
       "      <th></th>\n",
       "    </tr>\n",
       "  </thead>\n",
       "  <tbody>\n",
       "    <tr>\n",
       "      <th>ENSG00000188976</th>\n",
       "      <td>0.600657</td>\n",
       "      <td>0.335230</td>\n",
       "      <td>0.423703</td>\n",
       "      <td>0.464863</td>\n",
       "      <td>0.203950</td>\n",
       "    </tr>\n",
       "    <tr>\n",
       "      <th>ENSG00000188290</th>\n",
       "      <td>0.004254</td>\n",
       "      <td>0.000849</td>\n",
       "      <td>0.001244</td>\n",
       "      <td>0.072195</td>\n",
       "      <td>0.057932</td>\n",
       "    </tr>\n",
       "    <tr>\n",
       "      <th>ENSG00000187608</th>\n",
       "      <td>0.399682</td>\n",
       "      <td>0.168536</td>\n",
       "      <td>0.244742</td>\n",
       "      <td>0.535174</td>\n",
       "      <td>5.261536</td>\n",
       "    </tr>\n",
       "    <tr>\n",
       "      <th>ENSG00000186891</th>\n",
       "      <td>0.028720</td>\n",
       "      <td>0.000989</td>\n",
       "      <td>0.074086</td>\n",
       "      <td>0.089243</td>\n",
       "      <td>0.012705</td>\n",
       "    </tr>\n",
       "    <tr>\n",
       "      <th>ENSG00000186827</th>\n",
       "      <td>0.011228</td>\n",
       "      <td>0.000747</td>\n",
       "      <td>0.009442</td>\n",
       "      <td>0.038227</td>\n",
       "      <td>0.013607</td>\n",
       "    </tr>\n",
       "  </tbody>\n",
       "</table>\n",
       "</div>"
      ],
      "text/plain": [
       "                 B_Cycling   B_GC_DZ   B_GC_LZ  B_GC_prePB     B_IFN\n",
       "GeneID-2                                                            \n",
       "ENSG00000188976   0.600657  0.335230  0.423703    0.464863  0.203950\n",
       "ENSG00000188290   0.004254  0.000849  0.001244    0.072195  0.057932\n",
       "ENSG00000187608   0.399682  0.168536  0.244742    0.535174  5.261536\n",
       "ENSG00000186891   0.028720  0.000989  0.074086    0.089243  0.012705\n",
       "ENSG00000186827   0.011228  0.000747  0.009442    0.038227  0.013607"
      ]
     },
     "execution_count": 4,
     "metadata": {},
     "output_type": "execute_result"
    }
   ],
   "source": [
    "# export estimated expression in each cluster\n",
    "if 'means_per_cluster_mu_fg' in adata_ref.varm.keys():\n",
    "    inf_aver = adata_ref.varm['means_per_cluster_mu_fg'][[f'means_per_cluster_mu_fg_{i}'\n",
    "                                    for i in adata_ref.uns['mod']['factor_names']]].copy()\n",
    "else:\n",
    "    inf_aver = adata_ref.var[[f'means_per_cluster_mu_fg_{i}'\n",
    "                                    for i in adata_ref.uns['mod']['factor_names']]].copy()\n",
    "inf_aver.columns = adata_ref.uns['mod']['factor_names']\n",
    "inf_aver.iloc[0:5, 0:5]"
   ]
  },
  {
   "cell_type": "markdown",
   "id": "c8c0a1b9-2f2e-4507-a943-ab4c6fe39168",
   "metadata": {},
   "source": [
    "# Crop1"
   ]
  },
  {
   "cell_type": "code",
   "execution_count": 5,
   "id": "8fdbb147-2710-4f41-8c09-7986a64c8751",
   "metadata": {},
   "outputs": [
    {
     "data": {
      "text/plain": [
       "AnnData object with n_obs × n_vars = 197644 × 2964\n",
       "    obs: 'cell_id', 'transcript_counts', 'control_probe_counts', 'genomic_control_counts', 'control_codeword_counts', 'unassigned_codeword_counts', 'deprecated_codeword_counts', 'total_counts', 'cell_area', 'nucleus_area', 'nucleus_count', 'segmentation_method', 'region', 'z_level', 'cell_labels', 'x', 'y', 'group'\n",
       "    var: 'feature_types', 'genome'\n",
       "    uns: 'spatialdata_attrs'\n",
       "    obsm: 'spatial'"
      ]
     },
     "execution_count": 5,
     "metadata": {},
     "output_type": "execute_result"
    }
   ],
   "source": [
    "## xenium data\n",
    "ad_sp = sc.read(f'{data_dir}/crop1_raw.h5ad')\n",
    "ad_sp.var = ad_sp.var.set_index('gene_ids')\n",
    "intersect = np.intersect1d(ad_sp.var_names, inf_aver.index)\n",
    "ad_sp = ad_sp[:, intersect].copy()\n",
    "inf_aver = inf_aver.loc[intersect, :].copy()\n",
    "ad_sp"
   ]
  },
  {
   "cell_type": "markdown",
   "id": "3f59cb89-c5b5-4b61-afa2-1d986d014751",
   "metadata": {},
   "source": [
    "## Chunk1"
   ]
  },
  {
   "cell_type": "code",
   "execution_count": 6,
   "id": "4b28b4ad-f0e8-49c9-b8c2-445a95f7e490",
   "metadata": {},
   "outputs": [
    {
     "data": {
      "text/plain": [
       "AnnData object with n_obs × n_vars = 100000 × 2964\n",
       "    obs: 'cell_id', 'transcript_counts', 'control_probe_counts', 'genomic_control_counts', 'control_codeword_counts', 'unassigned_codeword_counts', 'deprecated_codeword_counts', 'total_counts', 'cell_area', 'nucleus_area', 'nucleus_count', 'segmentation_method', 'region', 'z_level', 'cell_labels', 'x', 'y', 'group', '_indices', '_scvi_batch', '_scvi_labels'\n",
       "    var: 'feature_types', 'genome'\n",
       "    uns: 'spatialdata_attrs', '_scvi_uuid', '_scvi_manager_uuid'\n",
       "    obsm: 'spatial'"
      ]
     },
     "execution_count": 6,
     "metadata": {},
     "output_type": "execute_result"
    }
   ],
   "source": [
    "ad_sp_chunk = ad_sp[:100000].copy()\n",
    "intersect = np.intersect1d(ad_sp_chunk.var_names, inf_aver.index)\n",
    "ad_sp_chunk = ad_sp_chunk[:, intersect].copy()\n",
    "inf_aver = inf_aver.loc[intersect, :].copy()\n",
    "\n",
    "# prepare anndata for cell2location model\n",
    "cell2location.models.Cell2location.setup_anndata(adata=ad_sp_chunk)\n",
    "#scvi.data.view_anndata_setup(adata_vis)\n",
    "# create and train the model\n",
    "mod = cell2location.models.Cell2location(\n",
    "    ad_sp_chunk, cell_state_df=inf_aver,\n",
    "    # the expected average cell abundance: tissue-dependent\n",
    "    # hyper-prior which can be estimated from paired histology:\n",
    "    N_cells_per_location=1,\n",
    "    # hyperparameter controlling normalisation of\n",
    "    # within-experiment variation in RNA detection (using default here):\n",
    "    detection_alpha=20\n",
    ")\n",
    "ad_sp_chunk"
   ]
  },
  {
   "cell_type": "code",
   "execution_count": null,
   "id": "57a19bfc-51d7-4abc-899a-c559d7be3e9e",
   "metadata": {},
   "outputs": [
    {
     "name": "stderr",
     "output_type": "stream",
     "text": [
      "GPU available: True (cuda), used: True\n",
      "TPU available: False, using: 0 TPU cores\n",
      "HPU available: False, using: 0 HPUs\n",
      "/home/xiaojiashun/anaconda3/envs/cell2loc_env/lib/python3.10/site-packages/lightning/pytorch/trainer/configuration_validator.py:68: You passed in a `val_dataloader` but have no `validation_step`. Skipping val loop.\n",
      "LOCAL_RANK: 0 - CUDA_VISIBLE_DEVICES: [0]\n",
      "/home/xiaojiashun/anaconda3/envs/cell2loc_env/lib/python3.10/site-packages/lightning/pytorch/trainer/connectors/data_connector.py:424: The 'train_dataloader' does not have many workers which may be a bottleneck. Consider increasing the value of the `num_workers` argument` to `num_workers=31` in the `DataLoader` to improve performance.\n",
      "/home/xiaojiashun/anaconda3/envs/cell2loc_env/lib/python3.10/site-packages/lightning/pytorch/loops/fit_loop.py:298: The number of training batches (1) is smaller than the logging interval Trainer(log_every_n_steps=10). Set a lower value for log_every_n_steps if you want to see logs for the training epoch.\n"
     ]
    },
    {
     "name": "stdout",
     "output_type": "stream",
     "text": [
      "Epoch 497/20000:   2%|█▋                                                                 | 496/20000 [02:04<1:21:34,  3.98it/s, v_num=1, elbo_train=1.01e+8]"
     ]
    }
   ],
   "source": [
    "mod.train(max_epochs=20000,\n",
    "          # train using full data (batch_size=None)\n",
    "          batch_size=None,\n",
    "          # use all data points in training because\n",
    "          # we need to estimate cell abundance at all locations\n",
    "          train_size=1)"
   ]
  },
  {
   "cell_type": "code",
   "execution_count": 10,
   "id": "8aaf3322-e716-4868-89a6-7f2b47f41bf4",
   "metadata": {},
   "outputs": [
    {
     "data": {
      "text/plain": [
       "<matplotlib.legend.Legend at 0x7f408c3e8880>"
      ]
     },
     "execution_count": 10,
     "metadata": {},
     "output_type": "execute_result"
    },
    {
     "data": {
      "image/png": "[encoded data removed]",
      "text/plain": [
       "<Figure size 640x480 with 1 Axes>"
      ]
     },
     "metadata": {},
     "output_type": "display_data"
    }
   ],
   "source": [
    "# plot ELBO loss history during training, removing first 100 epochs from the plot\n",
    "mod.plot_history(1000)\n",
    "plt.legend(labels=['full data training'])"
   ]
  },
  {
   "cell_type": "code",
   "execution_count": 11,
   "id": "5cde1cc7-0575-4fa1-addf-3f125fa831c7",
   "metadata": {},
   "outputs": [],
   "source": [
    "## save trained model\n",
    "mod.save(f\"{data_dir}/cell2location_map_crop1_chunk1\", overwrite=True)"
   ]
  },
  {
   "cell_type": "code",
   "execution_count": 12,
   "id": "ef2c09b0-bc88-4675-b9a4-f2116f2d9679",
   "metadata": {
    "scrolled": true
   },
   "outputs": [
    {
     "name": "stderr",
     "output_type": "stream",
     "text": [
      "/tmp/ipykernel_1010002/1840773302.py:17: FutureWarning: The default of observed=False is deprecated and will be changed to True in a future version of pandas. Pass observed=False to retain current behavior or observed=True to adopt the future default and silence this warning.\n",
      "  q05_ct_df.groupby('cell_type')['max_norm'].agg(['size', 'median'])\n"
     ]
    },
    {
     "data": {
      "text/html": [
       "<div>\n",
       "<style scoped>\n",
       "    .dataframe tbody tr th:only-of-type {\n",
       "        vertical-align: middle;\n",
       "    }\n",
       "\n",
       "    .dataframe tbody tr th {\n",
       "        vertical-align: top;\n",
       "    }\n",
       "\n",
       "    .dataframe thead th {\n",
       "        text-align: right;\n",
       "    }\n",
       "</style>\n",
       "<table border=\"1\" class=\"dataframe\">\n",
       "  <thead>\n",
       "    <tr style=\"text-align: right;\">\n",
       "      <th></th>\n",
       "      <th>size</th>\n",
       "      <th>median</th>\n",
       "    </tr>\n",
       "    <tr>\n",
       "      <th>cell_type</th>\n",
       "      <th></th>\n",
       "      <th></th>\n",
       "    </tr>\n",
       "  </thead>\n",
       "  <tbody>\n",
       "    <tr>\n",
       "      <th>B_Cycling</th>\n",
       "      <td>1855</td>\n",
       "      <td>0.331623</td>\n",
       "    </tr>\n",
       "    <tr>\n",
       "      <th>B_GC_DZ</th>\n",
       "      <td>1411</td>\n",
       "      <td>0.246171</td>\n",
       "    </tr>\n",
       "    <tr>\n",
       "      <th>B_GC_LZ</th>\n",
       "      <td>2948</td>\n",
       "      <td>0.295694</td>\n",
       "    </tr>\n",
       "    <tr>\n",
       "      <th>B_GC_prePB</th>\n",
       "      <td>315</td>\n",
       "      <td>0.211015</td>\n",
       "    </tr>\n",
       "    <tr>\n",
       "      <th>B_IFN</th>\n",
       "      <td>1263</td>\n",
       "      <td>0.260227</td>\n",
       "    </tr>\n",
       "    <tr>\n",
       "      <th>B_activated</th>\n",
       "      <td>416</td>\n",
       "      <td>0.202683</td>\n",
       "    </tr>\n",
       "    <tr>\n",
       "      <th>B_mem</th>\n",
       "      <td>9725</td>\n",
       "      <td>0.281143</td>\n",
       "    </tr>\n",
       "    <tr>\n",
       "      <th>B_naive</th>\n",
       "      <td>2336</td>\n",
       "      <td>0.210591</td>\n",
       "    </tr>\n",
       "    <tr>\n",
       "      <th>B_plasma</th>\n",
       "      <td>3137</td>\n",
       "      <td>0.438126</td>\n",
       "    </tr>\n",
       "    <tr>\n",
       "      <th>B_preGC</th>\n",
       "      <td>916</td>\n",
       "      <td>0.305308</td>\n",
       "    </tr>\n",
       "    <tr>\n",
       "      <th>DC_CCR7+</th>\n",
       "      <td>1399</td>\n",
       "      <td>0.297921</td>\n",
       "    </tr>\n",
       "    <tr>\n",
       "      <th>DC_cDC1</th>\n",
       "      <td>409</td>\n",
       "      <td>0.341448</td>\n",
       "    </tr>\n",
       "    <tr>\n",
       "      <th>DC_cDC2</th>\n",
       "      <td>1537</td>\n",
       "      <td>0.525021</td>\n",
       "    </tr>\n",
       "    <tr>\n",
       "      <th>DC_pDC</th>\n",
       "      <td>3206</td>\n",
       "      <td>0.704127</td>\n",
       "    </tr>\n",
       "    <tr>\n",
       "      <th>Endo</th>\n",
       "      <td>3629</td>\n",
       "      <td>0.333616</td>\n",
       "    </tr>\n",
       "    <tr>\n",
       "      <th>FDC</th>\n",
       "      <td>2121</td>\n",
       "      <td>0.333113</td>\n",
       "    </tr>\n",
       "    <tr>\n",
       "      <th>ILC</th>\n",
       "      <td>299</td>\n",
       "      <td>0.266226</td>\n",
       "    </tr>\n",
       "    <tr>\n",
       "      <th>Macrophages_M1</th>\n",
       "      <td>2717</td>\n",
       "      <td>0.294610</td>\n",
       "    </tr>\n",
       "    <tr>\n",
       "      <th>Macrophages_M2</th>\n",
       "      <td>4907</td>\n",
       "      <td>0.299695</td>\n",
       "    </tr>\n",
       "    <tr>\n",
       "      <th>Mast</th>\n",
       "      <td>373</td>\n",
       "      <td>0.421204</td>\n",
       "    </tr>\n",
       "    <tr>\n",
       "      <th>Monocytes</th>\n",
       "      <td>417</td>\n",
       "      <td>0.434206</td>\n",
       "    </tr>\n",
       "    <tr>\n",
       "      <th>NK</th>\n",
       "      <td>1253</td>\n",
       "      <td>0.354434</td>\n",
       "    </tr>\n",
       "    <tr>\n",
       "      <th>NKT</th>\n",
       "      <td>298</td>\n",
       "      <td>0.182798</td>\n",
       "    </tr>\n",
       "    <tr>\n",
       "      <th>T_CD4+</th>\n",
       "      <td>756</td>\n",
       "      <td>0.181315</td>\n",
       "    </tr>\n",
       "    <tr>\n",
       "      <th>T_CD4+_TfH</th>\n",
       "      <td>266</td>\n",
       "      <td>0.161731</td>\n",
       "    </tr>\n",
       "    <tr>\n",
       "      <th>T_CD4+_TfH_GC</th>\n",
       "      <td>3051</td>\n",
       "      <td>0.234164</td>\n",
       "    </tr>\n",
       "    <tr>\n",
       "      <th>T_CD4+_naive</th>\n",
       "      <td>22874</td>\n",
       "      <td>0.174344</td>\n",
       "    </tr>\n",
       "    <tr>\n",
       "      <th>T_CD8+_CD161+</th>\n",
       "      <td>24</td>\n",
       "      <td>0.137445</td>\n",
       "    </tr>\n",
       "    <tr>\n",
       "      <th>T_CD8+_cytotoxic</th>\n",
       "      <td>3302</td>\n",
       "      <td>0.269205</td>\n",
       "    </tr>\n",
       "    <tr>\n",
       "      <th>T_CD8+_naive</th>\n",
       "      <td>4462</td>\n",
       "      <td>0.230185</td>\n",
       "    </tr>\n",
       "    <tr>\n",
       "      <th>T_TIM3+</th>\n",
       "      <td>2924</td>\n",
       "      <td>0.244323</td>\n",
       "    </tr>\n",
       "    <tr>\n",
       "      <th>T_TfR</th>\n",
       "      <td>1957</td>\n",
       "      <td>0.209795</td>\n",
       "    </tr>\n",
       "    <tr>\n",
       "      <th>T_Treg</th>\n",
       "      <td>3912</td>\n",
       "      <td>0.221708</td>\n",
       "    </tr>\n",
       "    <tr>\n",
       "      <th>VSMC</th>\n",
       "      <td>9585</td>\n",
       "      <td>0.289525</td>\n",
       "    </tr>\n",
       "  </tbody>\n",
       "</table>\n",
       "</div>"
      ],
      "text/plain": [
       "                   size    median\n",
       "cell_type                        \n",
       "B_Cycling          1855  0.331623\n",
       "B_GC_DZ            1411  0.246171\n",
       "B_GC_LZ            2948  0.295694\n",
       "B_GC_prePB          315  0.211015\n",
       "B_IFN              1263  0.260227\n",
       "B_activated         416  0.202683\n",
       "B_mem              9725  0.281143\n",
       "B_naive            2336  0.210591\n",
       "B_plasma           3137  0.438126\n",
       "B_preGC             916  0.305308\n",
       "DC_CCR7+           1399  0.297921\n",
       "DC_cDC1             409  0.341448\n",
       "DC_cDC2            1537  0.525021\n",
       "DC_pDC             3206  0.704127\n",
       "Endo               3629  0.333616\n",
       "FDC                2121  0.333113\n",
       "ILC                 299  0.266226\n",
       "Macrophages_M1     2717  0.294610\n",
       "Macrophages_M2     4907  0.299695\n",
       "Mast                373  0.421204\n",
       "Monocytes           417  0.434206\n",
       "NK                 1253  0.354434\n",
       "NKT                 298  0.182798\n",
       "T_CD4+              756  0.181315\n",
       "T_CD4+_TfH          266  0.161731\n",
       "T_CD4+_TfH_GC      3051  0.234164\n",
       "T_CD4+_naive      22874  0.174344\n",
       "T_CD8+_CD161+        24  0.137445\n",
       "T_CD8+_cytotoxic   3302  0.269205\n",
       "T_CD8+_naive       4462  0.230185\n",
       "T_TIM3+            2924  0.244323\n",
       "T_TfR              1957  0.209795\n",
       "T_Treg             3912  0.221708\n",
       "VSMC               9585  0.289525"
      ]
     },
     "execution_count": 12,
     "metadata": {},
     "output_type": "execute_result"
    }
   ],
   "source": [
    "## infer\n",
    "ad_sp_chunk = mod.export_posterior(ad_sp_chunk, use_quantiles=True, add_to_obsm=['q05'])\n",
    "q05_df = ad_sp_chunk.obsm['q05_cell_abundance_w_sf']\n",
    "q05_df.columns = [x.replace('q05cell_abundance_w_sf_', '') for x in q05_df.columns]\n",
    "q05 = q05_df.values\n",
    "q05_norm = q05 / q05.sum(1)[:,None]\n",
    "q05_ct_df = pd.DataFrame(q05_norm, columns = q05_df.columns)\n",
    "q05_ct_df['cell_type'] = q05_df.columns[q05_df.values.argmax(1)]\n",
    "q05_ct_df['cell_type'] = q05_ct_df['cell_type'].astype('category')\n",
    "all_cts = q05_ct_df['cell_type'].cat.categories.tolist()\n",
    "q05_ct_df['max_abun'] = q05.max(1)\n",
    "q05_ct_df['max_norm'] = q05_norm.max(1)\n",
    "q05_ct_df['x'] = ad_sp_chunk.obs['x'].values\n",
    "q05_ct_df['y'] = ad_sp_chunk.obs['y'].values\n",
    "q05_ct_df['cell_id'] = ad_sp_chunk.obs['cell_id'].values\n",
    "q05_ct_df.set_index(ad_sp_chunk.obs.index, inplace=True)\n",
    "q05_ct_df.groupby('cell_type')['max_norm'].agg(['size', 'median'])"
   ]
  },
  {
   "cell_type": "code",
   "execution_count": 13,
   "id": "1cbd2d12-f453-4b0c-9b51-8f48e89ca859",
   "metadata": {},
   "outputs": [],
   "source": [
    "## save qc info\n",
    "q05_ct_df.to_csv(f'{data_dir}/cell2location_info_crop1_chunk1.csv', sep='\\t', index=True)"
   ]
  },
  {
   "cell_type": "markdown",
   "id": "7d2ce9f7-0599-45cc-9022-c20b56a0c01b",
   "metadata": {},
   "source": [
    "## Chunk2"
   ]
  },
  {
   "cell_type": "code",
   "execution_count": 6,
   "id": "0745ed83-8ca4-4085-a170-e1931d819319",
   "metadata": {},
   "outputs": [
    {
     "data": {
      "text/plain": [
       "AnnData object with n_obs × n_vars = 97644 × 2964\n",
       "    obs: 'cell_id', 'transcript_counts', 'control_probe_counts', 'genomic_control_counts', 'control_codeword_counts', 'unassigned_codeword_counts', 'deprecated_codeword_counts', 'total_counts', 'cell_area', 'nucleus_area', 'nucleus_count', 'segmentation_method', 'region', 'z_level', 'cell_labels', 'x', 'y', 'group', '_indices', '_scvi_batch', '_scvi_labels'\n",
       "    var: 'feature_types', 'genome'\n",
       "    uns: 'spatialdata_attrs', '_scvi_uuid', '_scvi_manager_uuid'\n",
       "    obsm: 'spatial'"
      ]
     },
     "execution_count": 6,
     "metadata": {},
     "output_type": "execute_result"
    }
   ],
   "source": [
    "ad_sp_chunk = ad_sp[100000:].copy()\n",
    "intersect = np.intersect1d(ad_sp_chunk.var_names, inf_aver.index)\n",
    "ad_sp_chunk = ad_sp_chunk[:, intersect].copy()\n",
    "inf_aver = inf_aver.loc[intersect, :].copy()\n",
    "\n",
    "# prepare anndata for cell2location model\n",
    "cell2location.models.Cell2location.setup_anndata(adata=ad_sp_chunk)\n",
    "#scvi.data.view_anndata_setup(adata_vis)\n",
    "# create and train the model\n",
    "mod = cell2location.models.Cell2location(\n",
    "    ad_sp_chunk, cell_state_df=inf_aver,\n",
    "    # the expected average cell abundance: tissue-dependent\n",
    "    # hyper-prior which can be estimated from paired histology:\n",
    "    N_cells_per_location=1,\n",
    "    # hyperparameter controlling normalisation of\n",
    "    # within-experiment variation in RNA detection (using default here):\n",
    "    detection_alpha=20\n",
    ")\n",
    "ad_sp_chunk"
   ]
  },
  {
   "cell_type": "code",
   "execution_count": 7,
   "id": "33471025-64ca-41dc-9dff-ed988380df36",
   "metadata": {},
   "outputs": [
    {
     "name": "stderr",
     "output_type": "stream",
     "text": [
      "GPU available: True (cuda), used: True\n",
      "TPU available: False, using: 0 TPU cores\n",
      "HPU available: False, using: 0 HPUs\n",
      "/home/xiaojiashun/anaconda3/envs/cell2loc_env/lib/python3.10/site-packages/lightning/pytorch/trainer/configuration_validator.py:68: You passed in a `val_dataloader` but have no `validation_step`. Skipping val loop.\n",
      "LOCAL_RANK: 0 - CUDA_VISIBLE_DEVICES: [0]\n",
      "/home/xiaojiashun/anaconda3/envs/cell2loc_env/lib/python3.10/site-packages/lightning/pytorch/trainer/connectors/data_connector.py:424: The 'train_dataloader' does not have many workers which may be a bottleneck. Consider increasing the value of the `num_workers` argument` to `num_workers=31` in the `DataLoader` to improve performance.\n",
      "/home/xiaojiashun/anaconda3/envs/cell2loc_env/lib/python3.10/site-packages/lightning/pytorch/loops/fit_loop.py:298: The number of training batches (1) is smaller than the logging interval Trainer(log_every_n_steps=10). Set a lower value for log_every_n_steps if you want to see logs for the training epoch.\n"
     ]
    },
    {
     "name": "stdout",
     "output_type": "stream",
     "text": [
      "Epoch 20000/20000: 100%|███████████████████████████████████████████████████████████████| 20000/20000 [1:21:49<00:00,  4.08it/s, v_num=1, elbo_train=6.15e+7]"
     ]
    },
    {
     "name": "stderr",
     "output_type": "stream",
     "text": [
      "`Trainer.fit` stopped: `max_epochs=20000` reached.\n"
     ]
    },
    {
     "name": "stdout",
     "output_type": "stream",
     "text": [
      "\n",
      "poch 20000/20000: 100%|███████████████████████████████████████████████████████████████| 20000/20000 [1:21:49<00:00,  4.07it/s, v_num=1, elbo_train=6.15e+7]"
     ]
    }
   ],
   "source": [
    "mod.train(max_epochs=20000,\n",
    "          # train using full data (batch_size=None)\n",
    "          batch_size=None,\n",
    "          # use all data points in training because\n",
    "          # we need to estimate cell abundance at all locations\n",
    "          train_size=1)"
   ]
  },
  {
   "cell_type": "code",
   "execution_count": 8,
   "id": "c624636f-964c-4b54-bef7-929d1fad9af2",
   "metadata": {},
   "outputs": [
    {
     "data": {
      "text/plain": [
       "<matplotlib.legend.Legend at 0x7f49e9d9e1d0>"
      ]
     },
     "execution_count": 8,
     "metadata": {},
     "output_type": "execute_result"
    },
    {
     "data": {
      "image/png": "[encoded data removed]",
      "text/plain": [
       "<Figure size 640x480 with 1 Axes>"
      ]
     },
     "metadata": {},
     "output_type": "display_data"
    }
   ],
   "source": [
    "# plot ELBO loss history during training, removing first 100 epochs from the plot\n",
    "mod.plot_history(1000)\n",
    "plt.legend(labels=['full data training'])"
   ]
  },
  {
   "cell_type": "code",
   "execution_count": 9,
   "id": "eb0b06fe-22ea-49fa-a7a6-3aaf9e5507ee",
   "metadata": {},
   "outputs": [],
   "source": [
    "## save trained model\n",
    "mod.save(f\"{data_dir}/cell2location_map_crop1_chunk2\", overwrite=True)"
   ]
  },
  {
   "cell_type": "code",
   "execution_count": 10,
   "id": "f44e66e3-f57d-4f6c-bfe2-a664a83fde59",
   "metadata": {
    "scrolled": true
   },
   "outputs": [
    {
     "name": "stderr",
     "output_type": "stream",
     "text": [
      "/tmp/ipykernel_1027739/1840773302.py:17: FutureWarning: The default of observed=False is deprecated and will be changed to True in a future version of pandas. Pass observed=False to retain current behavior or observed=True to adopt the future default and silence this warning.\n",
      "  q05_ct_df.groupby('cell_type')['max_norm'].agg(['size', 'median'])\n"
     ]
    },
    {
     "data": {
      "text/html": [
       "<div>\n",
       "<style scoped>\n",
       "    .dataframe tbody tr th:only-of-type {\n",
       "        vertical-align: middle;\n",
       "    }\n",
       "\n",
       "    .dataframe tbody tr th {\n",
       "        vertical-align: top;\n",
       "    }\n",
       "\n",
       "    .dataframe thead th {\n",
       "        text-align: right;\n",
       "    }\n",
       "</style>\n",
       "<table border=\"1\" class=\"dataframe\">\n",
       "  <thead>\n",
       "    <tr style=\"text-align: right;\">\n",
       "      <th></th>\n",
       "      <th>size</th>\n",
       "      <th>median</th>\n",
       "    </tr>\n",
       "    <tr>\n",
       "      <th>cell_type</th>\n",
       "      <th></th>\n",
       "      <th></th>\n",
       "    </tr>\n",
       "  </thead>\n",
       "  <tbody>\n",
       "    <tr>\n",
       "      <th>B_Cycling</th>\n",
       "      <td>2378</td>\n",
       "      <td>0.248162</td>\n",
       "    </tr>\n",
       "    <tr>\n",
       "      <th>B_GC_DZ</th>\n",
       "      <td>1023</td>\n",
       "      <td>0.202273</td>\n",
       "    </tr>\n",
       "    <tr>\n",
       "      <th>B_GC_LZ</th>\n",
       "      <td>1401</td>\n",
       "      <td>0.259471</td>\n",
       "    </tr>\n",
       "    <tr>\n",
       "      <th>B_GC_prePB</th>\n",
       "      <td>172</td>\n",
       "      <td>0.166571</td>\n",
       "    </tr>\n",
       "    <tr>\n",
       "      <th>B_IFN</th>\n",
       "      <td>1009</td>\n",
       "      <td>0.191329</td>\n",
       "    </tr>\n",
       "    <tr>\n",
       "      <th>B_activated</th>\n",
       "      <td>393</td>\n",
       "      <td>0.169226</td>\n",
       "    </tr>\n",
       "    <tr>\n",
       "      <th>B_mem</th>\n",
       "      <td>5090</td>\n",
       "      <td>0.190210</td>\n",
       "    </tr>\n",
       "    <tr>\n",
       "      <th>B_naive</th>\n",
       "      <td>2164</td>\n",
       "      <td>0.159378</td>\n",
       "    </tr>\n",
       "    <tr>\n",
       "      <th>B_plasma</th>\n",
       "      <td>7028</td>\n",
       "      <td>0.662572</td>\n",
       "    </tr>\n",
       "    <tr>\n",
       "      <th>B_preGC</th>\n",
       "      <td>667</td>\n",
       "      <td>0.191113</td>\n",
       "    </tr>\n",
       "    <tr>\n",
       "      <th>DC_CCR7+</th>\n",
       "      <td>1472</td>\n",
       "      <td>0.392976</td>\n",
       "    </tr>\n",
       "    <tr>\n",
       "      <th>DC_cDC1</th>\n",
       "      <td>566</td>\n",
       "      <td>0.391199</td>\n",
       "    </tr>\n",
       "    <tr>\n",
       "      <th>DC_cDC2</th>\n",
       "      <td>2066</td>\n",
       "      <td>0.476407</td>\n",
       "    </tr>\n",
       "    <tr>\n",
       "      <th>DC_pDC</th>\n",
       "      <td>1930</td>\n",
       "      <td>0.523960</td>\n",
       "    </tr>\n",
       "    <tr>\n",
       "      <th>Endo</th>\n",
       "      <td>16800</td>\n",
       "      <td>0.683190</td>\n",
       "    </tr>\n",
       "    <tr>\n",
       "      <th>FDC</th>\n",
       "      <td>1956</td>\n",
       "      <td>0.329450</td>\n",
       "    </tr>\n",
       "    <tr>\n",
       "      <th>ILC</th>\n",
       "      <td>238</td>\n",
       "      <td>0.160255</td>\n",
       "    </tr>\n",
       "    <tr>\n",
       "      <th>Macrophages_M1</th>\n",
       "      <td>3173</td>\n",
       "      <td>0.384056</td>\n",
       "    </tr>\n",
       "    <tr>\n",
       "      <th>Macrophages_M2</th>\n",
       "      <td>8495</td>\n",
       "      <td>0.455196</td>\n",
       "    </tr>\n",
       "    <tr>\n",
       "      <th>Mast</th>\n",
       "      <td>391</td>\n",
       "      <td>0.385369</td>\n",
       "    </tr>\n",
       "    <tr>\n",
       "      <th>Monocytes</th>\n",
       "      <td>659</td>\n",
       "      <td>0.453413</td>\n",
       "    </tr>\n",
       "    <tr>\n",
       "      <th>NK</th>\n",
       "      <td>858</td>\n",
       "      <td>0.315544</td>\n",
       "    </tr>\n",
       "    <tr>\n",
       "      <th>NKT</th>\n",
       "      <td>195</td>\n",
       "      <td>0.137434</td>\n",
       "    </tr>\n",
       "    <tr>\n",
       "      <th>T_CD4+</th>\n",
       "      <td>717</td>\n",
       "      <td>0.136292</td>\n",
       "    </tr>\n",
       "    <tr>\n",
       "      <th>T_CD4+_TfH</th>\n",
       "      <td>359</td>\n",
       "      <td>0.122805</td>\n",
       "    </tr>\n",
       "    <tr>\n",
       "      <th>T_CD4+_TfH_GC</th>\n",
       "      <td>1457</td>\n",
       "      <td>0.171028</td>\n",
       "    </tr>\n",
       "    <tr>\n",
       "      <th>T_CD4+_naive</th>\n",
       "      <td>7280</td>\n",
       "      <td>0.120778</td>\n",
       "    </tr>\n",
       "    <tr>\n",
       "      <th>T_CD8+_CD161+</th>\n",
       "      <td>61</td>\n",
       "      <td>0.117451</td>\n",
       "    </tr>\n",
       "    <tr>\n",
       "      <th>T_CD8+_cytotoxic</th>\n",
       "      <td>1256</td>\n",
       "      <td>0.199955</td>\n",
       "    </tr>\n",
       "    <tr>\n",
       "      <th>T_CD8+_naive</th>\n",
       "      <td>4199</td>\n",
       "      <td>0.159741</td>\n",
       "    </tr>\n",
       "    <tr>\n",
       "      <th>T_TIM3+</th>\n",
       "      <td>3395</td>\n",
       "      <td>0.208474</td>\n",
       "    </tr>\n",
       "    <tr>\n",
       "      <th>T_TfR</th>\n",
       "      <td>708</td>\n",
       "      <td>0.158238</td>\n",
       "    </tr>\n",
       "    <tr>\n",
       "      <th>T_Treg</th>\n",
       "      <td>1985</td>\n",
       "      <td>0.173034</td>\n",
       "    </tr>\n",
       "    <tr>\n",
       "      <th>VSMC</th>\n",
       "      <td>16103</td>\n",
       "      <td>0.437903</td>\n",
       "    </tr>\n",
       "  </tbody>\n",
       "</table>\n",
       "</div>"
      ],
      "text/plain": [
       "                   size    median\n",
       "cell_type                        \n",
       "B_Cycling          2378  0.248162\n",
       "B_GC_DZ            1023  0.202273\n",
       "B_GC_LZ            1401  0.259471\n",
       "B_GC_prePB          172  0.166571\n",
       "B_IFN              1009  0.191329\n",
       "B_activated         393  0.169226\n",
       "B_mem              5090  0.190210\n",
       "B_naive            2164  0.159378\n",
       "B_plasma           7028  0.662572\n",
       "B_preGC             667  0.191113\n",
       "DC_CCR7+           1472  0.392976\n",
       "DC_cDC1             566  0.391199\n",
       "DC_cDC2            2066  0.476407\n",
       "DC_pDC             1930  0.523960\n",
       "Endo              16800  0.683190\n",
       "FDC                1956  0.329450\n",
       "ILC                 238  0.160255\n",
       "Macrophages_M1     3173  0.384056\n",
       "Macrophages_M2     8495  0.455196\n",
       "Mast                391  0.385369\n",
       "Monocytes           659  0.453413\n",
       "NK                  858  0.315544\n",
       "NKT                 195  0.137434\n",
       "T_CD4+              717  0.136292\n",
       "T_CD4+_TfH          359  0.122805\n",
       "T_CD4+_TfH_GC      1457  0.171028\n",
       "T_CD4+_naive       7280  0.120778\n",
       "T_CD8+_CD161+        61  0.117451\n",
       "T_CD8+_cytotoxic   1256  0.199955\n",
       "T_CD8+_naive       4199  0.159741\n",
       "T_TIM3+            3395  0.208474\n",
       "T_TfR               708  0.158238\n",
       "T_Treg             1985  0.173034\n",
       "VSMC              16103  0.437903"
      ]
     },
     "execution_count": 10,
     "metadata": {},
     "output_type": "execute_result"
    }
   ],
   "source": [
    "## infer\n",
    "ad_sp_chunk = mod.export_posterior(ad_sp_chunk, use_quantiles=True, add_to_obsm=['q05'])\n",
    "q05_df = ad_sp_chunk.obsm['q05_cell_abundance_w_sf']\n",
    "q05_df.columns = [x.replace('q05cell_abundance_w_sf_', '') for x in q05_df.columns]\n",
    "q05 = q05_df.values\n",
    "q05_norm = q05 / q05.sum(1)[:,None]\n",
    "q05_ct_df = pd.DataFrame(q05_norm, columns = q05_df.columns)\n",
    "q05_ct_df['cell_type'] = q05_df.columns[q05_df.values.argmax(1)]\n",
    "q05_ct_df['cell_type'] = q05_ct_df['cell_type'].astype('category')\n",
    "all_cts = q05_ct_df['cell_type'].cat.categories.tolist()\n",
    "q05_ct_df['max_abun'] = q05.max(1)\n",
    "q05_ct_df['max_norm'] = q05_norm.max(1)\n",
    "q05_ct_df['x'] = ad_sp_chunk.obs['x'].values\n",
    "q05_ct_df['y'] = ad_sp_chunk.obs['y'].values\n",
    "q05_ct_df['cell_id'] = ad_sp_chunk.obs['cell_id'].values\n",
    "q05_ct_df.set_index(ad_sp_chunk.obs.index, inplace=True)\n",
    "q05_ct_df.groupby('cell_type')['max_norm'].agg(['size', 'median'])"
   ]
  },
  {
   "cell_type": "code",
   "execution_count": 11,
   "id": "5f315177-835f-4acb-aadc-8b6a85682da7",
   "metadata": {},
   "outputs": [],
   "source": [
    "## save qc info\n",
    "q05_ct_df.to_csv(f'{data_dir}/cell2location_info_crop1_chunk2.csv', sep='\\t', index=True)"
   ]
  },
  {
   "cell_type": "markdown",
   "id": "9c004cb5-d104-4a69-b541-b4a392536eac",
   "metadata": {},
   "source": [
    "# Crop2"
   ]
  },
  {
   "cell_type": "code",
   "execution_count": 5,
   "id": "c88716ab-71d7-4707-a4bf-6b31a7028d13",
   "metadata": {},
   "outputs": [
    {
     "data": {
      "text/plain": [
       "AnnData object with n_obs × n_vars = 192378 × 2964\n",
       "    obs: 'cell_id', 'transcript_counts', 'control_probe_counts', 'genomic_control_counts', 'control_codeword_counts', 'unassigned_codeword_counts', 'deprecated_codeword_counts', 'total_counts', 'cell_area', 'nucleus_area', 'nucleus_count', 'segmentation_method', 'region', 'z_level', 'cell_labels', 'x', 'y', 'group'\n",
       "    var: 'feature_types', 'genome'\n",
       "    uns: 'spatialdata_attrs'\n",
       "    obsm: 'spatial'"
      ]
     },
     "execution_count": 5,
     "metadata": {},
     "output_type": "execute_result"
    }
   ],
   "source": [
    "## xenium data\n",
    "ad_sp = sc.read(f'{data_dir}/crop2_raw.h5ad')\n",
    "ad_sp.var = ad_sp.var.set_index('gene_ids')\n",
    "intersect = np.intersect1d(ad_sp.var_names, inf_aver.index)\n",
    "ad_sp = ad_sp[:, intersect].copy()\n",
    "inf_aver = inf_aver.loc[intersect, :].copy()\n",
    "ad_sp"
   ]
  },
  {
   "cell_type": "markdown",
   "id": "3211acd6-b27e-4e0a-b221-107831c13480",
   "metadata": {},
   "source": [
    "## Chunk1"
   ]
  },
  {
   "cell_type": "code",
   "execution_count": 6,
   "id": "9af79181-06e2-472b-b6f6-d8cf537fbb13",
   "metadata": {},
   "outputs": [
    {
     "data": {
      "text/plain": [
       "AnnData object with n_obs × n_vars = 100000 × 2964\n",
       "    obs: 'cell_id', 'transcript_counts', 'control_probe_counts', 'genomic_control_counts', 'control_codeword_counts', 'unassigned_codeword_counts', 'deprecated_codeword_counts', 'total_counts', 'cell_area', 'nucleus_area', 'nucleus_count', 'segmentation_method', 'region', 'z_level', 'cell_labels', 'x', 'y', 'group', '_indices', '_scvi_batch', '_scvi_labels'\n",
       "    var: 'feature_types', 'genome'\n",
       "    uns: 'spatialdata_attrs', '_scvi_uuid', '_scvi_manager_uuid'\n",
       "    obsm: 'spatial'"
      ]
     },
     "execution_count": 6,
     "metadata": {},
     "output_type": "execute_result"
    }
   ],
   "source": [
    "ad_sp_chunk = ad_sp[:100000].copy()\n",
    "intersect = np.intersect1d(ad_sp_chunk.var_names, inf_aver.index)\n",
    "ad_sp_chunk = ad_sp_chunk[:, intersect].copy()\n",
    "inf_aver = inf_aver.loc[intersect, :].copy()\n",
    "\n",
    "# prepare anndata for cell2location model\n",
    "cell2location.models.Cell2location.setup_anndata(adata=ad_sp_chunk)\n",
    "#scvi.data.view_anndata_setup(adata_vis)\n",
    "# create and train the model\n",
    "mod = cell2location.models.Cell2location(\n",
    "    ad_sp_chunk, cell_state_df=inf_aver,\n",
    "    # the expected average cell abundance: tissue-dependent\n",
    "    # hyper-prior which can be estimated from paired histology:\n",
    "    N_cells_per_location=1,\n",
    "    # hyperparameter controlling normalisation of\n",
    "    # within-experiment variation in RNA detection (using default here):\n",
    "    detection_alpha=20\n",
    ")\n",
    "ad_sp_chunk"
   ]
  },
  {
   "cell_type": "code",
   "execution_count": 7,
   "id": "aa6c1fc1-5dc3-4e11-8285-1aee4a47d48f",
   "metadata": {},
   "outputs": [
    {
     "name": "stderr",
     "output_type": "stream",
     "text": [
      "GPU available: True (cuda), used: True\n",
      "TPU available: False, using: 0 TPU cores\n",
      "HPU available: False, using: 0 HPUs\n",
      "/home/xiaojiashun/anaconda3/envs/cell2loc_env/lib/python3.10/site-packages/lightning/pytorch/trainer/configuration_validator.py:68: You passed in a `val_dataloader` but have no `validation_step`. Skipping val loop.\n",
      "LOCAL_RANK: 0 - CUDA_VISIBLE_DEVICES: [0]\n",
      "/home/xiaojiashun/anaconda3/envs/cell2loc_env/lib/python3.10/site-packages/lightning/pytorch/trainer/connectors/data_connector.py:424: The 'train_dataloader' does not have many workers which may be a bottleneck. Consider increasing the value of the `num_workers` argument` to `num_workers=31` in the `DataLoader` to improve performance.\n",
      "/home/xiaojiashun/anaconda3/envs/cell2loc_env/lib/python3.10/site-packages/lightning/pytorch/loops/fit_loop.py:298: The number of training batches (1) is smaller than the logging interval Trainer(log_every_n_steps=10). Set a lower value for log_every_n_steps if you want to see logs for the training epoch.\n"
     ]
    },
    {
     "name": "stdout",
     "output_type": "stream",
     "text": [
      "Epoch 20000/20000: 100%|███████████████████████████████████████████████████████████████| 20000/20000 [1:23:41<00:00,  3.99it/s, v_num=1, elbo_train=8.04e+7]"
     ]
    },
    {
     "name": "stderr",
     "output_type": "stream",
     "text": [
      "`Trainer.fit` stopped: `max_epochs=20000` reached.\n"
     ]
    },
    {
     "name": "stdout",
     "output_type": "stream",
     "text": [
      "\n",
      "poch 20000/20000: 100%|███████████████████████████████████████████████████████████████| 20000/20000 [1:23:41<00:00,  3.98it/s, v_num=1, elbo_train=8.04e+7]"
     ]
    }
   ],
   "source": [
    "mod.train(max_epochs=20000,\n",
    "          # train using full data (batch_size=None)\n",
    "          batch_size=None,\n",
    "          # use all data points in training because\n",
    "          # we need to estimate cell abundance at all locations\n",
    "          train_size=1)"
   ]
  },
  {
   "cell_type": "code",
   "execution_count": 8,
   "id": "dedb866a-0e45-493f-b86a-b8a62912b848",
   "metadata": {},
   "outputs": [
    {
     "data": {
      "text/plain": [
       "<matplotlib.legend.Legend at 0x7f0e216aa020>"
      ]
     },
     "execution_count": 8,
     "metadata": {},
     "output_type": "execute_result"
    },
    {
     "data": {
      "image/png": "[encoded data removed]",
      "text/plain": [
       "<Figure size 640x480 with 1 Axes>"
      ]
     },
     "metadata": {},
     "output_type": "display_data"
    }
   ],
   "source": [
    "# plot ELBO loss history during training, removing first 100 epochs from the plot\n",
    "mod.plot_history(1000)\n",
    "plt.legend(labels=['full data training'])"
   ]
  },
  {
   "cell_type": "code",
   "execution_count": 9,
   "id": "d3a8702b-f297-442e-9e02-eee975da05b7",
   "metadata": {},
   "outputs": [],
   "source": [
    "## save trained model\n",
    "mod.save(f\"{data_dir}/cell2location_map_crop2_chunk1\", overwrite=True)"
   ]
  },
  {
   "cell_type": "code",
   "execution_count": 10,
   "id": "6fd1034c-db7a-4fb2-895b-0f1792901cec",
   "metadata": {
    "scrolled": true
   },
   "outputs": [
    {
     "name": "stderr",
     "output_type": "stream",
     "text": [
      "/tmp/ipykernel_1068483/1840773302.py:17: FutureWarning: The default of observed=False is deprecated and will be changed to True in a future version of pandas. Pass observed=False to retain current behavior or observed=True to adopt the future default and silence this warning.\n",
      "  q05_ct_df.groupby('cell_type')['max_norm'].agg(['size', 'median'])\n"
     ]
    },
    {
     "data": {
      "text/html": [
       "<div>\n",
       "<style scoped>\n",
       "    .dataframe tbody tr th:only-of-type {\n",
       "        vertical-align: middle;\n",
       "    }\n",
       "\n",
       "    .dataframe tbody tr th {\n",
       "        vertical-align: top;\n",
       "    }\n",
       "\n",
       "    .dataframe thead th {\n",
       "        text-align: right;\n",
       "    }\n",
       "</style>\n",
       "<table border=\"1\" class=\"dataframe\">\n",
       "  <thead>\n",
       "    <tr style=\"text-align: right;\">\n",
       "      <th></th>\n",
       "      <th>size</th>\n",
       "      <th>median</th>\n",
       "    </tr>\n",
       "    <tr>\n",
       "      <th>cell_type</th>\n",
       "      <th></th>\n",
       "      <th></th>\n",
       "    </tr>\n",
       "  </thead>\n",
       "  <tbody>\n",
       "    <tr>\n",
       "      <th>B_Cycling</th>\n",
       "      <td>2077</td>\n",
       "      <td>0.342711</td>\n",
       "    </tr>\n",
       "    <tr>\n",
       "      <th>B_GC_DZ</th>\n",
       "      <td>1251</td>\n",
       "      <td>0.236362</td>\n",
       "    </tr>\n",
       "    <tr>\n",
       "      <th>B_GC_LZ</th>\n",
       "      <td>2717</td>\n",
       "      <td>0.294912</td>\n",
       "    </tr>\n",
       "    <tr>\n",
       "      <th>B_GC_prePB</th>\n",
       "      <td>323</td>\n",
       "      <td>0.209255</td>\n",
       "    </tr>\n",
       "    <tr>\n",
       "      <th>B_IFN</th>\n",
       "      <td>1268</td>\n",
       "      <td>0.260117</td>\n",
       "    </tr>\n",
       "    <tr>\n",
       "      <th>B_activated</th>\n",
       "      <td>388</td>\n",
       "      <td>0.211807</td>\n",
       "    </tr>\n",
       "    <tr>\n",
       "      <th>B_mem</th>\n",
       "      <td>7931</td>\n",
       "      <td>0.296896</td>\n",
       "    </tr>\n",
       "    <tr>\n",
       "      <th>B_naive</th>\n",
       "      <td>1899</td>\n",
       "      <td>0.211070</td>\n",
       "    </tr>\n",
       "    <tr>\n",
       "      <th>B_plasma</th>\n",
       "      <td>2149</td>\n",
       "      <td>0.433681</td>\n",
       "    </tr>\n",
       "    <tr>\n",
       "      <th>B_preGC</th>\n",
       "      <td>905</td>\n",
       "      <td>0.315114</td>\n",
       "    </tr>\n",
       "    <tr>\n",
       "      <th>DC_CCR7+</th>\n",
       "      <td>1933</td>\n",
       "      <td>0.316000</td>\n",
       "    </tr>\n",
       "    <tr>\n",
       "      <th>DC_cDC1</th>\n",
       "      <td>417</td>\n",
       "      <td>0.369666</td>\n",
       "    </tr>\n",
       "    <tr>\n",
       "      <th>DC_cDC2</th>\n",
       "      <td>1711</td>\n",
       "      <td>0.587136</td>\n",
       "    </tr>\n",
       "    <tr>\n",
       "      <th>DC_pDC</th>\n",
       "      <td>3669</td>\n",
       "      <td>0.740413</td>\n",
       "    </tr>\n",
       "    <tr>\n",
       "      <th>Endo</th>\n",
       "      <td>3660</td>\n",
       "      <td>0.346644</td>\n",
       "    </tr>\n",
       "    <tr>\n",
       "      <th>FDC</th>\n",
       "      <td>2136</td>\n",
       "      <td>0.322780</td>\n",
       "    </tr>\n",
       "    <tr>\n",
       "      <th>ILC</th>\n",
       "      <td>298</td>\n",
       "      <td>0.288672</td>\n",
       "    </tr>\n",
       "    <tr>\n",
       "      <th>Macrophages_M1</th>\n",
       "      <td>2849</td>\n",
       "      <td>0.295877</td>\n",
       "    </tr>\n",
       "    <tr>\n",
       "      <th>Macrophages_M2</th>\n",
       "      <td>4464</td>\n",
       "      <td>0.298957</td>\n",
       "    </tr>\n",
       "    <tr>\n",
       "      <th>Mast</th>\n",
       "      <td>401</td>\n",
       "      <td>0.450963</td>\n",
       "    </tr>\n",
       "    <tr>\n",
       "      <th>Monocytes</th>\n",
       "      <td>399</td>\n",
       "      <td>0.479902</td>\n",
       "    </tr>\n",
       "    <tr>\n",
       "      <th>NK</th>\n",
       "      <td>1341</td>\n",
       "      <td>0.360764</td>\n",
       "    </tr>\n",
       "    <tr>\n",
       "      <th>NKT</th>\n",
       "      <td>258</td>\n",
       "      <td>0.186862</td>\n",
       "    </tr>\n",
       "    <tr>\n",
       "      <th>T_CD4+</th>\n",
       "      <td>854</td>\n",
       "      <td>0.188909</td>\n",
       "    </tr>\n",
       "    <tr>\n",
       "      <th>T_CD4+_TfH</th>\n",
       "      <td>146</td>\n",
       "      <td>0.158088</td>\n",
       "    </tr>\n",
       "    <tr>\n",
       "      <th>T_CD4+_TfH_GC</th>\n",
       "      <td>2882</td>\n",
       "      <td>0.224152</td>\n",
       "    </tr>\n",
       "    <tr>\n",
       "      <th>T_CD4+_naive</th>\n",
       "      <td>28137</td>\n",
       "      <td>0.180456</td>\n",
       "    </tr>\n",
       "    <tr>\n",
       "      <th>T_CD8+_CD161+</th>\n",
       "      <td>20</td>\n",
       "      <td>0.133982</td>\n",
       "    </tr>\n",
       "    <tr>\n",
       "      <th>T_CD8+_cytotoxic</th>\n",
       "      <td>2945</td>\n",
       "      <td>0.246365</td>\n",
       "    </tr>\n",
       "    <tr>\n",
       "      <th>T_CD8+_naive</th>\n",
       "      <td>4612</td>\n",
       "      <td>0.234700</td>\n",
       "    </tr>\n",
       "    <tr>\n",
       "      <th>T_TIM3+</th>\n",
       "      <td>2619</td>\n",
       "      <td>0.241814</td>\n",
       "    </tr>\n",
       "    <tr>\n",
       "      <th>T_TfR</th>\n",
       "      <td>1691</td>\n",
       "      <td>0.199773</td>\n",
       "    </tr>\n",
       "    <tr>\n",
       "      <th>T_Treg</th>\n",
       "      <td>2603</td>\n",
       "      <td>0.218681</td>\n",
       "    </tr>\n",
       "    <tr>\n",
       "      <th>VSMC</th>\n",
       "      <td>9047</td>\n",
       "      <td>0.291843</td>\n",
       "    </tr>\n",
       "  </tbody>\n",
       "</table>\n",
       "</div>"
      ],
      "text/plain": [
       "                   size    median\n",
       "cell_type                        \n",
       "B_Cycling          2077  0.342711\n",
       "B_GC_DZ            1251  0.236362\n",
       "B_GC_LZ            2717  0.294912\n",
       "B_GC_prePB          323  0.209255\n",
       "B_IFN              1268  0.260117\n",
       "B_activated         388  0.211807\n",
       "B_mem              7931  0.296896\n",
       "B_naive            1899  0.211070\n",
       "B_plasma           2149  0.433681\n",
       "B_preGC             905  0.315114\n",
       "DC_CCR7+           1933  0.316000\n",
       "DC_cDC1             417  0.369666\n",
       "DC_cDC2            1711  0.587136\n",
       "DC_pDC             3669  0.740413\n",
       "Endo               3660  0.346644\n",
       "FDC                2136  0.322780\n",
       "ILC                 298  0.288672\n",
       "Macrophages_M1     2849  0.295877\n",
       "Macrophages_M2     4464  0.298957\n",
       "Mast                401  0.450963\n",
       "Monocytes           399  0.479902\n",
       "NK                 1341  0.360764\n",
       "NKT                 258  0.186862\n",
       "T_CD4+              854  0.188909\n",
       "T_CD4+_TfH          146  0.158088\n",
       "T_CD4+_TfH_GC      2882  0.224152\n",
       "T_CD4+_naive      28137  0.180456\n",
       "T_CD8+_CD161+        20  0.133982\n",
       "T_CD8+_cytotoxic   2945  0.246365\n",
       "T_CD8+_naive       4612  0.234700\n",
       "T_TIM3+            2619  0.241814\n",
       "T_TfR              1691  0.199773\n",
       "T_Treg             2603  0.218681\n",
       "VSMC               9047  0.291843"
      ]
     },
     "execution_count": 10,
     "metadata": {},
     "output_type": "execute_result"
    }
   ],
   "source": [
    "## infer\n",
    "ad_sp_chunk = mod.export_posterior(ad_sp_chunk, use_quantiles=True, add_to_obsm=['q05'])\n",
    "q05_df = ad_sp_chunk.obsm['q05_cell_abundance_w_sf']\n",
    "q05_df.columns = [x.replace('q05cell_abundance_w_sf_', '') for x in q05_df.columns]\n",
    "q05 = q05_df.values\n",
    "q05_norm = q05 / q05.sum(1)[:,None]\n",
    "q05_ct_df = pd.DataFrame(q05_norm, columns = q05_df.columns)\n",
    "q05_ct_df['cell_type'] = q05_df.columns[q05_df.values.argmax(1)]\n",
    "q05_ct_df['cell_type'] = q05_ct_df['cell_type'].astype('category')\n",
    "all_cts = q05_ct_df['cell_type'].cat.categories.tolist()\n",
    "q05_ct_df['max_abun'] = q05.max(1)\n",
    "q05_ct_df['max_norm'] = q05_norm.max(1)\n",
    "q05_ct_df['x'] = ad_sp_chunk.obs['x'].values\n",
    "q05_ct_df['y'] = ad_sp_chunk.obs['y'].values\n",
    "q05_ct_df['cell_id'] = ad_sp_chunk.obs['cell_id'].values\n",
    "q05_ct_df.set_index(ad_sp_chunk.obs.index, inplace=True)\n",
    "q05_ct_df.groupby('cell_type')['max_norm'].agg(['size', 'median'])"
   ]
  },
  {
   "cell_type": "code",
   "execution_count": 11,
   "id": "37f4989a-4144-433c-bc57-0a593415b836",
   "metadata": {},
   "outputs": [],
   "source": [
    "## save qc info\n",
    "q05_ct_df.to_csv(f'{data_dir}/cell2location_info_crop2_chunk1.csv', sep='\\t', index=True)"
   ]
  },
  {
   "cell_type": "markdown",
   "id": "7058b07c-b723-4a20-b03b-5104913c3e3d",
   "metadata": {},
   "source": [
    "## Chunk2"
   ]
  },
  {
   "cell_type": "code",
   "execution_count": 12,
   "id": "837cb3b4-b913-41ff-a29a-e4239ed0d08c",
   "metadata": {},
   "outputs": [
    {
     "data": {
      "text/plain": [
       "AnnData object with n_obs × n_vars = 92378 × 2964\n",
       "    obs: 'cell_id', 'transcript_counts', 'control_probe_counts', 'genomic_control_counts', 'control_codeword_counts', 'unassigned_codeword_counts', 'deprecated_codeword_counts', 'total_counts', 'cell_area', 'nucleus_area', 'nucleus_count', 'segmentation_method', 'region', 'z_level', 'cell_labels', 'x', 'y', 'group', '_indices', '_scvi_batch', '_scvi_labels'\n",
       "    var: 'feature_types', 'genome'\n",
       "    uns: 'spatialdata_attrs', '_scvi_uuid', '_scvi_manager_uuid'\n",
       "    obsm: 'spatial'"
      ]
     },
     "execution_count": 12,
     "metadata": {},
     "output_type": "execute_result"
    }
   ],
   "source": [
    "ad_sp_chunk = ad_sp[100000:].copy()\n",
    "intersect = np.intersect1d(ad_sp_chunk.var_names, inf_aver.index)\n",
    "ad_sp_chunk = ad_sp_chunk[:, intersect].copy()\n",
    "inf_aver = inf_aver.loc[intersect, :].copy()\n",
    "\n",
    "# prepare anndata for cell2location model\n",
    "cell2location.models.Cell2location.setup_anndata(adata=ad_sp_chunk)\n",
    "#scvi.data.view_anndata_setup(adata_vis)\n",
    "# create and train the model\n",
    "mod = cell2location.models.Cell2location(\n",
    "    ad_sp_chunk, cell_state_df=inf_aver,\n",
    "    # the expected average cell abundance: tissue-dependent\n",
    "    # hyper-prior which can be estimated from paired histology:\n",
    "    N_cells_per_location=1,\n",
    "    # hyperparameter controlling normalisation of\n",
    "    # within-experiment variation in RNA detection (using default here):\n",
    "    detection_alpha=20\n",
    ")\n",
    "ad_sp_chunk"
   ]
  },
  {
   "cell_type": "code",
   "execution_count": 13,
   "id": "50c603e6-21ec-4e13-8487-bdeb81f9d82e",
   "metadata": {},
   "outputs": [
    {
     "name": "stderr",
     "output_type": "stream",
     "text": [
      "GPU available: True (cuda), used: True\n",
      "TPU available: False, using: 0 TPU cores\n",
      "HPU available: False, using: 0 HPUs\n",
      "/home/xiaojiashun/anaconda3/envs/cell2loc_env/lib/python3.10/site-packages/lightning/pytorch/trainer/configuration_validator.py:68: You passed in a `val_dataloader` but have no `validation_step`. Skipping val loop.\n",
      "LOCAL_RANK: 0 - CUDA_VISIBLE_DEVICES: [0]\n",
      "/home/xiaojiashun/anaconda3/envs/cell2loc_env/lib/python3.10/site-packages/lightning/pytorch/trainer/connectors/data_connector.py:424: The 'train_dataloader' does not have many workers which may be a bottleneck. Consider increasing the value of the `num_workers` argument` to `num_workers=31` in the `DataLoader` to improve performance.\n",
      "/home/xiaojiashun/anaconda3/envs/cell2loc_env/lib/python3.10/site-packages/lightning/pytorch/loops/fit_loop.py:298: The number of training batches (1) is smaller than the logging interval Trainer(log_every_n_steps=10). Set a lower value for log_every_n_steps if you want to see logs for the training epoch.\n"
     ]
    },
    {
     "name": "stdout",
     "output_type": "stream",
     "text": [
      "Epoch 20000/20000: 100%|███████████████████████████████████████████████████████████████| 20000/20000 [1:17:51<00:00,  4.28it/s, v_num=1, elbo_train=5.51e+7]"
     ]
    },
    {
     "name": "stderr",
     "output_type": "stream",
     "text": [
      "`Trainer.fit` stopped: `max_epochs=20000` reached.\n"
     ]
    },
    {
     "name": "stdout",
     "output_type": "stream",
     "text": [
      "\n",
      "poch 20000/20000: 100%|███████████████████████████████████████████████████████████████| 20000/20000 [1:17:51<00:00,  4.28it/s, v_num=1, elbo_train=5.51e+7]"
     ]
    }
   ],
   "source": [
    "mod.train(max_epochs=20000,\n",
    "          # train using full data (batch_size=None)\n",
    "          batch_size=None,\n",
    "          # use all data points in training because\n",
    "          # we need to estimate cell abundance at all locations\n",
    "          train_size=1)"
   ]
  },
  {
   "cell_type": "code",
   "execution_count": 14,
   "id": "0850b5aa-2ac1-4a17-9352-f44296fd1c80",
   "metadata": {},
   "outputs": [
    {
     "data": {
      "text/plain": [
       "<matplotlib.legend.Legend at 0x7f0e216ab310>"
      ]
     },
     "execution_count": 14,
     "metadata": {},
     "output_type": "execute_result"
    },
    {
     "data": {
      "image/png": "[encoded data removed]",
      "text/plain": [
       "<Figure size 640x480 with 1 Axes>"
      ]
     },
     "metadata": {},
     "output_type": "display_data"
    }
   ],
   "source": [
    "# plot ELBO loss history during training, removing first 100 epochs from the plot\n",
    "mod.plot_history(1000)\n",
    "plt.legend(labels=['full data training'])"
   ]
  },
  {
   "cell_type": "code",
   "execution_count": 15,
   "id": "8f07e156-a3a0-4654-bf0d-a08fc86c275b",
   "metadata": {},
   "outputs": [],
   "source": [
    "## save trained model\n",
    "mod.save(f\"{data_dir}/cell2location_map_crop2_chunk2\", overwrite=True)"
   ]
  },
  {
   "cell_type": "code",
   "execution_count": 16,
   "id": "00fc5e25-4af4-420a-810b-1bd7a7bef8bf",
   "metadata": {},
   "outputs": [
    {
     "name": "stderr",
     "output_type": "stream",
     "text": [
      "/tmp/ipykernel_1068483/1840773302.py:17: FutureWarning: The default of observed=False is deprecated and will be changed to True in a future version of pandas. Pass observed=False to retain current behavior or observed=True to adopt the future default and silence this warning.\n",
      "  q05_ct_df.groupby('cell_type')['max_norm'].agg(['size', 'median'])\n"
     ]
    },
    {
     "data": {
      "text/html": [
       "<div>\n",
       "<style scoped>\n",
       "    .dataframe tbody tr th:only-of-type {\n",
       "        vertical-align: middle;\n",
       "    }\n",
       "\n",
       "    .dataframe tbody tr th {\n",
       "        vertical-align: top;\n",
       "    }\n",
       "\n",
       "    .dataframe thead th {\n",
       "        text-align: right;\n",
       "    }\n",
       "</style>\n",
       "<table border=\"1\" class=\"dataframe\">\n",
       "  <thead>\n",
       "    <tr style=\"text-align: right;\">\n",
       "      <th></th>\n",
       "      <th>size</th>\n",
       "      <th>median</th>\n",
       "    </tr>\n",
       "    <tr>\n",
       "      <th>cell_type</th>\n",
       "      <th></th>\n",
       "      <th></th>\n",
       "    </tr>\n",
       "  </thead>\n",
       "  <tbody>\n",
       "    <tr>\n",
       "      <th>B_Cycling</th>\n",
       "      <td>2293</td>\n",
       "      <td>0.235434</td>\n",
       "    </tr>\n",
       "    <tr>\n",
       "      <th>B_GC_DZ</th>\n",
       "      <td>817</td>\n",
       "      <td>0.179828</td>\n",
       "    </tr>\n",
       "    <tr>\n",
       "      <th>B_GC_LZ</th>\n",
       "      <td>1079</td>\n",
       "      <td>0.234076</td>\n",
       "    </tr>\n",
       "    <tr>\n",
       "      <th>B_GC_prePB</th>\n",
       "      <td>149</td>\n",
       "      <td>0.172192</td>\n",
       "    </tr>\n",
       "    <tr>\n",
       "      <th>B_IFN</th>\n",
       "      <td>910</td>\n",
       "      <td>0.186080</td>\n",
       "    </tr>\n",
       "    <tr>\n",
       "      <th>B_activated</th>\n",
       "      <td>374</td>\n",
       "      <td>0.159138</td>\n",
       "    </tr>\n",
       "    <tr>\n",
       "      <th>B_mem</th>\n",
       "      <td>3392</td>\n",
       "      <td>0.177353</td>\n",
       "    </tr>\n",
       "    <tr>\n",
       "      <th>B_naive</th>\n",
       "      <td>2009</td>\n",
       "      <td>0.145053</td>\n",
       "    </tr>\n",
       "    <tr>\n",
       "      <th>B_plasma</th>\n",
       "      <td>5759</td>\n",
       "      <td>0.664787</td>\n",
       "    </tr>\n",
       "    <tr>\n",
       "      <th>B_preGC</th>\n",
       "      <td>603</td>\n",
       "      <td>0.178907</td>\n",
       "    </tr>\n",
       "    <tr>\n",
       "      <th>DC_CCR7+</th>\n",
       "      <td>1690</td>\n",
       "      <td>0.416173</td>\n",
       "    </tr>\n",
       "    <tr>\n",
       "      <th>DC_cDC1</th>\n",
       "      <td>605</td>\n",
       "      <td>0.372287</td>\n",
       "    </tr>\n",
       "    <tr>\n",
       "      <th>DC_cDC2</th>\n",
       "      <td>2191</td>\n",
       "      <td>0.478788</td>\n",
       "    </tr>\n",
       "    <tr>\n",
       "      <th>DC_pDC</th>\n",
       "      <td>1977</td>\n",
       "      <td>0.540833</td>\n",
       "    </tr>\n",
       "    <tr>\n",
       "      <th>Endo</th>\n",
       "      <td>16997</td>\n",
       "      <td>0.632854</td>\n",
       "    </tr>\n",
       "    <tr>\n",
       "      <th>FDC</th>\n",
       "      <td>1800</td>\n",
       "      <td>0.314987</td>\n",
       "    </tr>\n",
       "    <tr>\n",
       "      <th>ILC</th>\n",
       "      <td>221</td>\n",
       "      <td>0.160706</td>\n",
       "    </tr>\n",
       "    <tr>\n",
       "      <th>Macrophages_M1</th>\n",
       "      <td>2919</td>\n",
       "      <td>0.380991</td>\n",
       "    </tr>\n",
       "    <tr>\n",
       "      <th>Macrophages_M2</th>\n",
       "      <td>8272</td>\n",
       "      <td>0.454577</td>\n",
       "    </tr>\n",
       "    <tr>\n",
       "      <th>Mast</th>\n",
       "      <td>468</td>\n",
       "      <td>0.367426</td>\n",
       "    </tr>\n",
       "    <tr>\n",
       "      <th>Monocytes</th>\n",
       "      <td>786</td>\n",
       "      <td>0.443773</td>\n",
       "    </tr>\n",
       "    <tr>\n",
       "      <th>NK</th>\n",
       "      <td>833</td>\n",
       "      <td>0.316334</td>\n",
       "    </tr>\n",
       "    <tr>\n",
       "      <th>NKT</th>\n",
       "      <td>208</td>\n",
       "      <td>0.131683</td>\n",
       "    </tr>\n",
       "    <tr>\n",
       "      <th>T_CD4+</th>\n",
       "      <td>722</td>\n",
       "      <td>0.128182</td>\n",
       "    </tr>\n",
       "    <tr>\n",
       "      <th>T_CD4+_TfH</th>\n",
       "      <td>260</td>\n",
       "      <td>0.112877</td>\n",
       "    </tr>\n",
       "    <tr>\n",
       "      <th>T_CD4+_TfH_GC</th>\n",
       "      <td>1389</td>\n",
       "      <td>0.156344</td>\n",
       "    </tr>\n",
       "    <tr>\n",
       "      <th>T_CD4+_naive</th>\n",
       "      <td>7624</td>\n",
       "      <td>0.114088</td>\n",
       "    </tr>\n",
       "    <tr>\n",
       "      <th>T_CD8+_CD161+</th>\n",
       "      <td>59</td>\n",
       "      <td>0.107134</td>\n",
       "    </tr>\n",
       "    <tr>\n",
       "      <th>T_CD8+_cytotoxic</th>\n",
       "      <td>1061</td>\n",
       "      <td>0.187534</td>\n",
       "    </tr>\n",
       "    <tr>\n",
       "      <th>T_CD8+_naive</th>\n",
       "      <td>4130</td>\n",
       "      <td>0.150158</td>\n",
       "    </tr>\n",
       "    <tr>\n",
       "      <th>T_TIM3+</th>\n",
       "      <td>3461</td>\n",
       "      <td>0.205268</td>\n",
       "    </tr>\n",
       "    <tr>\n",
       "      <th>T_TfR</th>\n",
       "      <td>644</td>\n",
       "      <td>0.157054</td>\n",
       "    </tr>\n",
       "    <tr>\n",
       "      <th>T_Treg</th>\n",
       "      <td>1489</td>\n",
       "      <td>0.165684</td>\n",
       "    </tr>\n",
       "    <tr>\n",
       "      <th>VSMC</th>\n",
       "      <td>15187</td>\n",
       "      <td>0.424711</td>\n",
       "    </tr>\n",
       "  </tbody>\n",
       "</table>\n",
       "</div>"
      ],
      "text/plain": [
       "                   size    median\n",
       "cell_type                        \n",
       "B_Cycling          2293  0.235434\n",
       "B_GC_DZ             817  0.179828\n",
       "B_GC_LZ            1079  0.234076\n",
       "B_GC_prePB          149  0.172192\n",
       "B_IFN               910  0.186080\n",
       "B_activated         374  0.159138\n",
       "B_mem              3392  0.177353\n",
       "B_naive            2009  0.145053\n",
       "B_plasma           5759  0.664787\n",
       "B_preGC             603  0.178907\n",
       "DC_CCR7+           1690  0.416173\n",
       "DC_cDC1             605  0.372287\n",
       "DC_cDC2            2191  0.478788\n",
       "DC_pDC             1977  0.540833\n",
       "Endo              16997  0.632854\n",
       "FDC                1800  0.314987\n",
       "ILC                 221  0.160706\n",
       "Macrophages_M1     2919  0.380991\n",
       "Macrophages_M2     8272  0.454577\n",
       "Mast                468  0.367426\n",
       "Monocytes           786  0.443773\n",
       "NK                  833  0.316334\n",
       "NKT                 208  0.131683\n",
       "T_CD4+              722  0.128182\n",
       "T_CD4+_TfH          260  0.112877\n",
       "T_CD4+_TfH_GC      1389  0.156344\n",
       "T_CD4+_naive       7624  0.114088\n",
       "T_CD8+_CD161+        59  0.107134\n",
       "T_CD8+_cytotoxic   1061  0.187534\n",
       "T_CD8+_naive       4130  0.150158\n",
       "T_TIM3+            3461  0.205268\n",
       "T_TfR               644  0.157054\n",
       "T_Treg             1489  0.165684\n",
       "VSMC              15187  0.424711"
      ]
     },
     "execution_count": 16,
     "metadata": {},
     "output_type": "execute_result"
    }
   ],
   "source": [
    "## infer\n",
    "ad_sp_chunk = mod.export_posterior(ad_sp_chunk, use_quantiles=True, add_to_obsm=['q05'])\n",
    "q05_df = ad_sp_chunk.obsm['q05_cell_abundance_w_sf']\n",
    "q05_df.columns = [x.replace('q05cell_abundance_w_sf_', '') for x in q05_df.columns]\n",
    "q05 = q05_df.values\n",
    "q05_norm = q05 / q05.sum(1)[:,None]\n",
    "q05_ct_df = pd.DataFrame(q05_norm, columns = q05_df.columns)\n",
    "q05_ct_df['cell_type'] = q05_df.columns[q05_df.values.argmax(1)]\n",
    "q05_ct_df['cell_type'] = q05_ct_df['cell_type'].astype('category')\n",
    "all_cts = q05_ct_df['cell_type'].cat.categories.tolist()\n",
    "q05_ct_df['max_abun'] = q05.max(1)\n",
    "q05_ct_df['max_norm'] = q05_norm.max(1)\n",
    "q05_ct_df['x'] = ad_sp_chunk.obs['x'].values\n",
    "q05_ct_df['y'] = ad_sp_chunk.obs['y'].values\n",
    "q05_ct_df['cell_id'] = ad_sp_chunk.obs['cell_id'].values\n",
    "q05_ct_df.set_index(ad_sp_chunk.obs.index, inplace=True)\n",
    "q05_ct_df.groupby('cell_type')['max_norm'].agg(['size', 'median'])"
   ]
  },
  {
   "cell_type": "code",
   "execution_count": 17,
   "id": "3457825b-7d74-4762-9113-5837c6019424",
   "metadata": {},
   "outputs": [],
   "source": [
    "## save qc info\n",
    "q05_ct_df.to_csv(f'{data_dir}/cell2location_info_crop2_chunk2.csv', sep='\\t', index=True)"
   ]
  },
  {
   "cell_type": "markdown",
   "id": "27750dac-9dc5-4ddf-aac7-61f0ce859ec5",
   "metadata": {},
   "source": [
    "# Crop3"
   ]
  },
  {
   "cell_type": "code",
   "execution_count": 5,
   "id": "35d2b7e6-3ba6-4086-8eb4-007ca23b6743",
   "metadata": {},
   "outputs": [
    {
     "data": {
      "text/plain": [
       "AnnData object with n_obs × n_vars = 223757 × 2964\n",
       "    obs: 'cell_id', 'transcript_counts', 'control_probe_counts', 'genomic_control_counts', 'control_codeword_counts', 'unassigned_codeword_counts', 'deprecated_codeword_counts', 'total_counts', 'cell_area', 'nucleus_area', 'nucleus_count', 'segmentation_method', 'region', 'z_level', 'cell_labels', 'x', 'y', 'group'\n",
       "    var: 'feature_types', 'genome'\n",
       "    uns: 'spatialdata_attrs'\n",
       "    obsm: 'spatial'"
      ]
     },
     "execution_count": 5,
     "metadata": {},
     "output_type": "execute_result"
    }
   ],
   "source": [
    "## xenium data\n",
    "ad_sp = sc.read(f'{data_dir}/crop3_raw.h5ad')\n",
    "ad_sp.var = ad_sp.var.set_index('gene_ids')\n",
    "intersect = np.intersect1d(ad_sp.var_names, inf_aver.index)\n",
    "ad_sp = ad_sp[:, intersect].copy()\n",
    "inf_aver = inf_aver.loc[intersect, :].copy()\n",
    "ad_sp"
   ]
  },
  {
   "cell_type": "markdown",
   "id": "77ef16ea-15bb-4692-8c6a-dce24f3fe4da",
   "metadata": {},
   "source": [
    "## Chunk1"
   ]
  },
  {
   "cell_type": "code",
   "execution_count": 7,
   "id": "95d8fe82-ce47-4aab-a4c5-70e686e12fb3",
   "metadata": {},
   "outputs": [
    {
     "data": {
      "text/plain": [
       "AnnData object with n_obs × n_vars = 115000 × 2964\n",
       "    obs: 'cell_id', 'transcript_counts', 'control_probe_counts', 'genomic_control_counts', 'control_codeword_counts', 'unassigned_codeword_counts', 'deprecated_codeword_counts', 'total_counts', 'cell_area', 'nucleus_area', 'nucleus_count', 'segmentation_method', 'region', 'z_level', 'cell_labels', 'x', 'y', 'group', '_indices', '_scvi_batch', '_scvi_labels'\n",
       "    var: 'feature_types', 'genome'\n",
       "    uns: 'spatialdata_attrs', '_scvi_uuid', '_scvi_manager_uuid'\n",
       "    obsm: 'spatial'"
      ]
     },
     "execution_count": 7,
     "metadata": {},
     "output_type": "execute_result"
    }
   ],
   "source": [
    "ad_sp_chunk = ad_sp[:115000].copy()\n",
    "intersect = np.intersect1d(ad_sp_chunk.var_names, inf_aver.index)\n",
    "ad_sp_chunk = ad_sp_chunk[:, intersect].copy()\n",
    "inf_aver = inf_aver.loc[intersect, :].copy()\n",
    "\n",
    "# prepare anndata for cell2location model\n",
    "cell2location.models.Cell2location.setup_anndata(adata=ad_sp_chunk)\n",
    "#scvi.data.view_anndata_setup(adata_vis)\n",
    "# create and train the model\n",
    "mod = cell2location.models.Cell2location(\n",
    "    ad_sp_chunk, cell_state_df=inf_aver,\n",
    "    # the expected average cell abundance: tissue-dependent\n",
    "    # hyper-prior which can be estimated from paired histology:\n",
    "    N_cells_per_location=1,\n",
    "    # hyperparameter controlling normalisation of\n",
    "    # within-experiment variation in RNA detection (using default here):\n",
    "    detection_alpha=20\n",
    ")\n",
    "ad_sp_chunk"
   ]
  },
  {
   "cell_type": "code",
   "execution_count": null,
   "id": "b4bd5774-62fb-401f-9fc1-57b7795b80e3",
   "metadata": {},
   "outputs": [
    {
     "name": "stderr",
     "output_type": "stream",
     "text": [
      "GPU available: True (cuda), used: True\n",
      "TPU available: False, using: 0 TPU cores\n",
      "HPU available: False, using: 0 HPUs\n",
      "/home/xiaojiashun/anaconda3/envs/cell2loc_env/lib/python3.10/site-packages/lightning/pytorch/trainer/configuration_validator.py:68: You passed in a `val_dataloader` but have no `validation_step`. Skipping val loop.\n",
      "LOCAL_RANK: 0 - CUDA_VISIBLE_DEVICES: [0]\n",
      "/home/xiaojiashun/anaconda3/envs/cell2loc_env/lib/python3.10/site-packages/lightning/pytorch/trainer/connectors/data_connector.py:424: The 'train_dataloader' does not have many workers which may be a bottleneck. Consider increasing the value of the `num_workers` argument` to `num_workers=31` in the `DataLoader` to improve performance.\n",
      "/home/xiaojiashun/anaconda3/envs/cell2loc_env/lib/python3.10/site-packages/lightning/pytorch/loops/fit_loop.py:298: The number of training batches (1) is smaller than the logging interval Trainer(log_every_n_steps=10). Set a lower value for log_every_n_steps if you want to see logs for the training epoch.\n"
     ]
    },
    {
     "name": "stdout",
     "output_type": "stream",
     "text": [
      "Epoch 18881/20000:  94%|███████████████████████████████████████████████████████████▍   | 18881/20000 [1:30:16<05:20,  3.49it/s, v_num=1, elbo_train=9.58e+7]"
     ]
    }
   ],
   "source": [
    "mod.train(max_epochs=20000,\n",
    "          # train using full data (batch_size=None)\n",
    "          batch_size=None,\n",
    "          # use all data points in training because\n",
    "          # we need to estimate cell abundance at all locations\n",
    "          train_size=1)"
   ]
  },
  {
   "cell_type": "code",
   "execution_count": 9,
   "id": "5773833b-e645-46aa-b036-f6a8b1ac10e3",
   "metadata": {},
   "outputs": [
    {
     "data": {
      "text/plain": [
       "<matplotlib.legend.Legend at 0x7f3c9ee47a90>"
      ]
     },
     "execution_count": 9,
     "metadata": {},
     "output_type": "execute_result"
    },
    {
     "data": {
      "image/png": "[encoded data removed]",
      "text/plain": [
       "<Figure size 640x480 with 1 Axes>"
      ]
     },
     "metadata": {},
     "output_type": "display_data"
    }
   ],
   "source": [
    "# plot ELBO loss history during training, removing first 100 epochs from the plot\n",
    "mod.plot_history(1000)\n",
    "plt.legend(labels=['full data training'])"
   ]
  },
  {
   "cell_type": "code",
   "execution_count": 10,
   "id": "9d5ab0d9-b6ec-4ec3-8ecb-bdda093e74ac",
   "metadata": {},
   "outputs": [],
   "source": [
    "## save trained model\n",
    "mod.save(f\"{data_dir}/cell2location_map_crop3_chunk1\", overwrite=True)"
   ]
  },
  {
   "cell_type": "code",
   "execution_count": 16,
   "id": "7da12b7c-20d9-4034-ac58-a7f286f2af29",
   "metadata": {
    "scrolled": true
   },
   "outputs": [
    {
     "name": "stderr",
     "output_type": "stream",
     "text": [
      "/tmp/ipykernel_970739/2569843488.py:1: FutureWarning: The default of observed=False is deprecated and will be changed to True in a future version of pandas. Pass observed=False to retain current behavior or observed=True to adopt the future default and silence this warning.\n",
      "  q05_ct_df.groupby('cell_type')['max_norm'].agg(['size', 'median'])\n"
     ]
    },
    {
     "data": {
      "text/html": [
       "<div>\n",
       "<style scoped>\n",
       "    .dataframe tbody tr th:only-of-type {\n",
       "        vertical-align: middle;\n",
       "    }\n",
       "\n",
       "    .dataframe tbody tr th {\n",
       "        vertical-align: top;\n",
       "    }\n",
       "\n",
       "    .dataframe thead th {\n",
       "        text-align: right;\n",
       "    }\n",
       "</style>\n",
       "<table border=\"1\" class=\"dataframe\">\n",
       "  <thead>\n",
       "    <tr style=\"text-align: right;\">\n",
       "      <th></th>\n",
       "      <th>size</th>\n",
       "      <th>median</th>\n",
       "    </tr>\n",
       "    <tr>\n",
       "      <th>cell_type</th>\n",
       "      <th></th>\n",
       "      <th></th>\n",
       "    </tr>\n",
       "  </thead>\n",
       "  <tbody>\n",
       "    <tr>\n",
       "      <th>B_Cycling</th>\n",
       "      <td>2024</td>\n",
       "      <td>0.372990</td>\n",
       "    </tr>\n",
       "    <tr>\n",
       "      <th>B_GC_DZ</th>\n",
       "      <td>2546</td>\n",
       "      <td>0.426103</td>\n",
       "    </tr>\n",
       "    <tr>\n",
       "      <th>B_GC_LZ</th>\n",
       "      <td>4213</td>\n",
       "      <td>0.390076</td>\n",
       "    </tr>\n",
       "    <tr>\n",
       "      <th>B_GC_prePB</th>\n",
       "      <td>396</td>\n",
       "      <td>0.238171</td>\n",
       "    </tr>\n",
       "    <tr>\n",
       "      <th>B_IFN</th>\n",
       "      <td>1635</td>\n",
       "      <td>0.283874</td>\n",
       "    </tr>\n",
       "    <tr>\n",
       "      <th>B_activated</th>\n",
       "      <td>566</td>\n",
       "      <td>0.234070</td>\n",
       "    </tr>\n",
       "    <tr>\n",
       "      <th>B_mem</th>\n",
       "      <td>10290</td>\n",
       "      <td>0.344095</td>\n",
       "    </tr>\n",
       "    <tr>\n",
       "      <th>B_naive</th>\n",
       "      <td>2684</td>\n",
       "      <td>0.247207</td>\n",
       "    </tr>\n",
       "    <tr>\n",
       "      <th>B_plasma</th>\n",
       "      <td>1548</td>\n",
       "      <td>0.393477</td>\n",
       "    </tr>\n",
       "    <tr>\n",
       "      <th>B_preGC</th>\n",
       "      <td>1197</td>\n",
       "      <td>0.336571</td>\n",
       "    </tr>\n",
       "    <tr>\n",
       "      <th>DC_CCR7+</th>\n",
       "      <td>1904</td>\n",
       "      <td>0.311783</td>\n",
       "    </tr>\n",
       "    <tr>\n",
       "      <th>DC_cDC1</th>\n",
       "      <td>411</td>\n",
       "      <td>0.409185</td>\n",
       "    </tr>\n",
       "    <tr>\n",
       "      <th>DC_cDC2</th>\n",
       "      <td>1789</td>\n",
       "      <td>0.630685</td>\n",
       "    </tr>\n",
       "    <tr>\n",
       "      <th>DC_pDC</th>\n",
       "      <td>4820</td>\n",
       "      <td>0.766571</td>\n",
       "    </tr>\n",
       "    <tr>\n",
       "      <th>Endo</th>\n",
       "      <td>3381</td>\n",
       "      <td>0.358001</td>\n",
       "    </tr>\n",
       "    <tr>\n",
       "      <th>FDC</th>\n",
       "      <td>2172</td>\n",
       "      <td>0.324366</td>\n",
       "    </tr>\n",
       "    <tr>\n",
       "      <th>ILC</th>\n",
       "      <td>370</td>\n",
       "      <td>0.287461</td>\n",
       "    </tr>\n",
       "    <tr>\n",
       "      <th>Macrophages_M1</th>\n",
       "      <td>3357</td>\n",
       "      <td>0.317773</td>\n",
       "    </tr>\n",
       "    <tr>\n",
       "      <th>Macrophages_M2</th>\n",
       "      <td>4070</td>\n",
       "      <td>0.297229</td>\n",
       "    </tr>\n",
       "    <tr>\n",
       "      <th>Mast</th>\n",
       "      <td>338</td>\n",
       "      <td>0.336852</td>\n",
       "    </tr>\n",
       "    <tr>\n",
       "      <th>Monocytes</th>\n",
       "      <td>429</td>\n",
       "      <td>0.500733</td>\n",
       "    </tr>\n",
       "    <tr>\n",
       "      <th>NK</th>\n",
       "      <td>1266</td>\n",
       "      <td>0.347161</td>\n",
       "    </tr>\n",
       "    <tr>\n",
       "      <th>NKT</th>\n",
       "      <td>363</td>\n",
       "      <td>0.190038</td>\n",
       "    </tr>\n",
       "    <tr>\n",
       "      <th>T_CD4+</th>\n",
       "      <td>1232</td>\n",
       "      <td>0.209826</td>\n",
       "    </tr>\n",
       "    <tr>\n",
       "      <th>T_CD4+_TfH</th>\n",
       "      <td>226</td>\n",
       "      <td>0.163584</td>\n",
       "    </tr>\n",
       "    <tr>\n",
       "      <th>T_CD4+_TfH_GC</th>\n",
       "      <td>2761</td>\n",
       "      <td>0.235044</td>\n",
       "    </tr>\n",
       "    <tr>\n",
       "      <th>T_CD4+_naive</th>\n",
       "      <td>32059</td>\n",
       "      <td>0.194299</td>\n",
       "    </tr>\n",
       "    <tr>\n",
       "      <th>T_CD8+_CD161+</th>\n",
       "      <td>30</td>\n",
       "      <td>0.146080</td>\n",
       "    </tr>\n",
       "    <tr>\n",
       "      <th>T_CD8+_cytotoxic</th>\n",
       "      <td>3336</td>\n",
       "      <td>0.275435</td>\n",
       "    </tr>\n",
       "    <tr>\n",
       "      <th>T_CD8+_naive</th>\n",
       "      <td>5113</td>\n",
       "      <td>0.249906</td>\n",
       "    </tr>\n",
       "    <tr>\n",
       "      <th>T_TIM3+</th>\n",
       "      <td>3233</td>\n",
       "      <td>0.264219</td>\n",
       "    </tr>\n",
       "    <tr>\n",
       "      <th>T_TfR</th>\n",
       "      <td>2364</td>\n",
       "      <td>0.214353</td>\n",
       "    </tr>\n",
       "    <tr>\n",
       "      <th>T_Treg</th>\n",
       "      <td>3297</td>\n",
       "      <td>0.233733</td>\n",
       "    </tr>\n",
       "    <tr>\n",
       "      <th>VSMC</th>\n",
       "      <td>9580</td>\n",
       "      <td>0.306065</td>\n",
       "    </tr>\n",
       "  </tbody>\n",
       "</table>\n",
       "</div>"
      ],
      "text/plain": [
       "                   size    median\n",
       "cell_type                        \n",
       "B_Cycling          2024  0.372990\n",
       "B_GC_DZ            2546  0.426103\n",
       "B_GC_LZ            4213  0.390076\n",
       "B_GC_prePB          396  0.238171\n",
       "B_IFN              1635  0.283874\n",
       "B_activated         566  0.234070\n",
       "B_mem             10290  0.344095\n",
       "B_naive            2684  0.247207\n",
       "B_plasma           1548  0.393477\n",
       "B_preGC            1197  0.336571\n",
       "DC_CCR7+           1904  0.311783\n",
       "DC_cDC1             411  0.409185\n",
       "DC_cDC2            1789  0.630685\n",
       "DC_pDC             4820  0.766571\n",
       "Endo               3381  0.358001\n",
       "FDC                2172  0.324366\n",
       "ILC                 370  0.287461\n",
       "Macrophages_M1     3357  0.317773\n",
       "Macrophages_M2     4070  0.297229\n",
       "Mast                338  0.336852\n",
       "Monocytes           429  0.500733\n",
       "NK                 1266  0.347161\n",
       "NKT                 363  0.190038\n",
       "T_CD4+             1232  0.209826\n",
       "T_CD4+_TfH          226  0.163584\n",
       "T_CD4+_TfH_GC      2761  0.235044\n",
       "T_CD4+_naive      32059  0.194299\n",
       "T_CD8+_CD161+        30  0.146080\n",
       "T_CD8+_cytotoxic   3336  0.275435\n",
       "T_CD8+_naive       5113  0.249906\n",
       "T_TIM3+            3233  0.264219\n",
       "T_TfR              2364  0.214353\n",
       "T_Treg             3297  0.233733\n",
       "VSMC               9580  0.306065"
      ]
     },
     "execution_count": 16,
     "metadata": {},
     "output_type": "execute_result"
    }
   ],
   "source": [
    "## infer\n",
    "ad_sp_chunk = mod.export_posterior(ad_sp_chunk, use_quantiles=True, add_to_obsm=['q05'])\n",
    "q05_df = ad_sp_chunk.obsm['q05_cell_abundance_w_sf']\n",
    "q05_df.columns = [x.replace('q05cell_abundance_w_sf_', '') for x in q05_df.columns]\n",
    "q05 = q05_df.values\n",
    "q05_norm = q05 / q05.sum(1)[:,None]\n",
    "q05_ct_df = pd.DataFrame(q05_norm, columns = q05_df.columns)\n",
    "q05_ct_df['cell_type'] = q05_df.columns[q05_df.values.argmax(1)]\n",
    "q05_ct_df['cell_type'] = q05_ct_df['cell_type'].astype('category')\n",
    "all_cts = q05_ct_df['cell_type'].cat.categories.tolist()\n",
    "q05_ct_df['max_abun'] = q05.max(1)\n",
    "q05_ct_df['max_norm'] = q05_norm.max(1)\n",
    "q05_ct_df['x'] = ad_sp_chunk.obs['x'].values\n",
    "q05_ct_df['y'] = ad_sp_chunk.obs['y'].values\n",
    "q05_ct_df['cell_id'] = ad_sp_chunk.obs['cell_id'].values\n",
    "q05_ct_df.set_index(ad_sp_chunk.obs.index, inplace=True)\n",
    "q05_ct_df.groupby('cell_type')['max_norm'].agg(['size', 'median'])"
   ]
  },
  {
   "cell_type": "code",
   "execution_count": 18,
   "id": "e29762e3-41d3-4084-b058-c82a76712585",
   "metadata": {},
   "outputs": [],
   "source": [
    "## save qc info\n",
    "q05_ct_df.to_csv(f'{data_dir}/cell2location_info_crop3_chunk1.csv', sep='\\t', index=True)"
   ]
  },
  {
   "cell_type": "markdown",
   "id": "2c2ed01a-0985-4cb6-aec8-0ccd747ecb4c",
   "metadata": {},
   "source": [
    "## Chunk2"
   ]
  },
  {
   "cell_type": "code",
   "execution_count": 6,
   "id": "0d4e2a1f-1d80-472f-a15b-dd0a259ead56",
   "metadata": {},
   "outputs": [
    {
     "data": {
      "text/plain": [
       "AnnData object with n_obs × n_vars = 108757 × 2964\n",
       "    obs: 'cell_id', 'transcript_counts', 'control_probe_counts', 'genomic_control_counts', 'control_codeword_counts', 'unassigned_codeword_counts', 'deprecated_codeword_counts', 'total_counts', 'cell_area', 'nucleus_area', 'nucleus_count', 'segmentation_method', 'region', 'z_level', 'cell_labels', 'x', 'y', 'group', '_indices', '_scvi_batch', '_scvi_labels'\n",
       "    var: 'feature_types', 'genome'\n",
       "    uns: 'spatialdata_attrs', '_scvi_uuid', '_scvi_manager_uuid'\n",
       "    obsm: 'spatial'"
      ]
     },
     "execution_count": 6,
     "metadata": {},
     "output_type": "execute_result"
    }
   ],
   "source": [
    "ad_sp_chunk = ad_sp[115000:].copy()\n",
    "intersect = np.intersect1d(ad_sp_chunk.var_names, inf_aver.index)\n",
    "ad_sp_chunk = ad_sp_chunk[:, intersect].copy()\n",
    "inf_aver = inf_aver.loc[intersect, :].copy()\n",
    "\n",
    "# prepare anndata for cell2location model\n",
    "cell2location.models.Cell2location.setup_anndata(adata=ad_sp_chunk)\n",
    "#scvi.data.view_anndata_setup(adata_vis)\n",
    "# create and train the model\n",
    "mod = cell2location.models.Cell2location(\n",
    "    ad_sp_chunk, cell_state_df=inf_aver,\n",
    "    # the expected average cell abundance: tissue-dependent\n",
    "    # hyper-prior which can be estimated from paired histology:\n",
    "    N_cells_per_location=1,\n",
    "    # hyperparameter controlling normalisation of\n",
    "    # within-experiment variation in RNA detection (using default here):\n",
    "    detection_alpha=20\n",
    ")\n",
    "ad_sp_chunk"
   ]
  },
  {
   "cell_type": "code",
   "execution_count": 13,
   "id": "797e76f0-1dee-40be-8559-97f7e0a327a0",
   "metadata": {},
   "outputs": [
    {
     "name": "stderr",
     "output_type": "stream",
     "text": [
      "GPU available: True (cuda), used: True\n",
      "TPU available: False, using: 0 TPU cores\n",
      "HPU available: False, using: 0 HPUs\n",
      "/home/xiaojiashun/anaconda3/envs/cell2loc_env/lib/python3.10/site-packages/lightning/pytorch/trainer/configuration_validator.py:68: You passed in a `val_dataloader` but have no `validation_step`. Skipping val loop.\n",
      "LOCAL_RANK: 0 - CUDA_VISIBLE_DEVICES: [0]\n",
      "/home/xiaojiashun/anaconda3/envs/cell2loc_env/lib/python3.10/site-packages/lightning/pytorch/trainer/connectors/data_connector.py:424: The 'train_dataloader' does not have many workers which may be a bottleneck. Consider increasing the value of the `num_workers` argument` to `num_workers=31` in the `DataLoader` to improve performance.\n",
      "/home/xiaojiashun/anaconda3/envs/cell2loc_env/lib/python3.10/site-packages/lightning/pytorch/loops/fit_loop.py:298: The number of training batches (1) is smaller than the logging interval Trainer(log_every_n_steps=10). Set a lower value for log_every_n_steps if you want to see logs for the training epoch.\n"
     ]
    },
    {
     "name": "stdout",
     "output_type": "stream",
     "text": [
      "Epoch 20000/20000: 100%|███████████████████████████████████████████████████████████████| 20000/20000 [1:30:39<00:00,  3.68it/s, v_num=1, elbo_train=6.95e+7]"
     ]
    },
    {
     "name": "stderr",
     "output_type": "stream",
     "text": [
      "`Trainer.fit` stopped: `max_epochs=20000` reached.\n"
     ]
    },
    {
     "name": "stdout",
     "output_type": "stream",
     "text": [
      "\n",
      "poch 20000/20000: 100%|███████████████████████████████████████████████████████████████| 20000/20000 [1:30:39<00:00,  3.68it/s, v_num=1, elbo_train=6.95e+7]"
     ]
    }
   ],
   "source": [
    "mod.train(max_epochs=20000,\n",
    "          # train using full data (batch_size=None)\n",
    "          batch_size=None,\n",
    "          # use all data points in training because\n",
    "          # we need to estimate cell abundance at all locations\n",
    "          train_size=1)"
   ]
  },
  {
   "cell_type": "code",
   "execution_count": 14,
   "id": "b6c461d3-c921-43f2-84e0-8001a960756d",
   "metadata": {},
   "outputs": [
    {
     "data": {
      "text/plain": [
       "<matplotlib.legend.Legend at 0x7f97f0414880>"
      ]
     },
     "execution_count": 14,
     "metadata": {},
     "output_type": "execute_result"
    },
    {
     "data": {
      "image/png": "[encoded data removed]",
      "text/plain": [
       "<Figure size 640x480 with 1 Axes>"
      ]
     },
     "metadata": {},
     "output_type": "display_data"
    }
   ],
   "source": [
    "# plot ELBO loss history during training, removing first 100 epochs from the plot\n",
    "mod.plot_history(1000)\n",
    "plt.legend(labels=['full data training'])"
   ]
  },
  {
   "cell_type": "code",
   "execution_count": 15,
   "id": "0cc530c9-f73f-4021-93b5-1b1f88b1a20f",
   "metadata": {},
   "outputs": [],
   "source": [
    "## save trained model\n",
    "mod.save(f\"{data_dir}/cell2location_map_crop3_chunk2\", overwrite=True)"
   ]
  },
  {
   "cell_type": "code",
   "execution_count": 16,
   "id": "4fcf5ba7-80d8-451b-90fb-c74ca245e601",
   "metadata": {
    "scrolled": true
   },
   "outputs": [
    {
     "name": "stderr",
     "output_type": "stream",
     "text": [
      "/tmp/ipykernel_991896/1840773302.py:17: FutureWarning: The default of observed=False is deprecated and will be changed to True in a future version of pandas. Pass observed=False to retain current behavior or observed=True to adopt the future default and silence this warning.\n",
      "  q05_ct_df.groupby('cell_type')['max_norm'].agg(['size', 'median'])\n"
     ]
    },
    {
     "data": {
      "text/html": [
       "<div>\n",
       "<style scoped>\n",
       "    .dataframe tbody tr th:only-of-type {\n",
       "        vertical-align: middle;\n",
       "    }\n",
       "\n",
       "    .dataframe tbody tr th {\n",
       "        vertical-align: top;\n",
       "    }\n",
       "\n",
       "    .dataframe thead th {\n",
       "        text-align: right;\n",
       "    }\n",
       "</style>\n",
       "<table border=\"1\" class=\"dataframe\">\n",
       "  <thead>\n",
       "    <tr style=\"text-align: right;\">\n",
       "      <th></th>\n",
       "      <th>size</th>\n",
       "      <th>median</th>\n",
       "    </tr>\n",
       "    <tr>\n",
       "      <th>cell_type</th>\n",
       "      <th></th>\n",
       "      <th></th>\n",
       "    </tr>\n",
       "  </thead>\n",
       "  <tbody>\n",
       "    <tr>\n",
       "      <th>B_Cycling</th>\n",
       "      <td>2664</td>\n",
       "      <td>0.276757</td>\n",
       "    </tr>\n",
       "    <tr>\n",
       "      <th>B_GC_DZ</th>\n",
       "      <td>2464</td>\n",
       "      <td>0.455406</td>\n",
       "    </tr>\n",
       "    <tr>\n",
       "      <th>B_GC_LZ</th>\n",
       "      <td>3701</td>\n",
       "      <td>0.517601</td>\n",
       "    </tr>\n",
       "    <tr>\n",
       "      <th>B_GC_prePB</th>\n",
       "      <td>336</td>\n",
       "      <td>0.266923</td>\n",
       "    </tr>\n",
       "    <tr>\n",
       "      <th>B_IFN</th>\n",
       "      <td>1231</td>\n",
       "      <td>0.211145</td>\n",
       "    </tr>\n",
       "    <tr>\n",
       "      <th>B_activated</th>\n",
       "      <td>483</td>\n",
       "      <td>0.187523</td>\n",
       "    </tr>\n",
       "    <tr>\n",
       "      <th>B_mem</th>\n",
       "      <td>5843</td>\n",
       "      <td>0.216895</td>\n",
       "    </tr>\n",
       "    <tr>\n",
       "      <th>B_naive</th>\n",
       "      <td>2470</td>\n",
       "      <td>0.172650</td>\n",
       "    </tr>\n",
       "    <tr>\n",
       "      <th>B_plasma</th>\n",
       "      <td>4028</td>\n",
       "      <td>0.671174</td>\n",
       "    </tr>\n",
       "    <tr>\n",
       "      <th>B_preGC</th>\n",
       "      <td>962</td>\n",
       "      <td>0.211661</td>\n",
       "    </tr>\n",
       "    <tr>\n",
       "      <th>DC_CCR7+</th>\n",
       "      <td>2256</td>\n",
       "      <td>0.497033</td>\n",
       "    </tr>\n",
       "    <tr>\n",
       "      <th>DC_cDC1</th>\n",
       "      <td>682</td>\n",
       "      <td>0.434837</td>\n",
       "    </tr>\n",
       "    <tr>\n",
       "      <th>DC_cDC2</th>\n",
       "      <td>2493</td>\n",
       "      <td>0.525255</td>\n",
       "    </tr>\n",
       "    <tr>\n",
       "      <th>DC_pDC</th>\n",
       "      <td>2990</td>\n",
       "      <td>0.629343</td>\n",
       "    </tr>\n",
       "    <tr>\n",
       "      <th>Endo</th>\n",
       "      <td>16704</td>\n",
       "      <td>0.719525</td>\n",
       "    </tr>\n",
       "    <tr>\n",
       "      <th>FDC</th>\n",
       "      <td>2148</td>\n",
       "      <td>0.334314</td>\n",
       "    </tr>\n",
       "    <tr>\n",
       "      <th>ILC</th>\n",
       "      <td>247</td>\n",
       "      <td>0.197943</td>\n",
       "    </tr>\n",
       "    <tr>\n",
       "      <th>Macrophages_M1</th>\n",
       "      <td>3815</td>\n",
       "      <td>0.422615</td>\n",
       "    </tr>\n",
       "    <tr>\n",
       "      <th>Macrophages_M2</th>\n",
       "      <td>8061</td>\n",
       "      <td>0.480202</td>\n",
       "    </tr>\n",
       "    <tr>\n",
       "      <th>Mast</th>\n",
       "      <td>484</td>\n",
       "      <td>0.396882</td>\n",
       "    </tr>\n",
       "    <tr>\n",
       "      <th>Monocytes</th>\n",
       "      <td>732</td>\n",
       "      <td>0.496645</td>\n",
       "    </tr>\n",
       "    <tr>\n",
       "      <th>NK</th>\n",
       "      <td>980</td>\n",
       "      <td>0.377642</td>\n",
       "    </tr>\n",
       "    <tr>\n",
       "      <th>NKT</th>\n",
       "      <td>244</td>\n",
       "      <td>0.146915</td>\n",
       "    </tr>\n",
       "    <tr>\n",
       "      <th>T_CD4+</th>\n",
       "      <td>1271</td>\n",
       "      <td>0.159819</td>\n",
       "    </tr>\n",
       "    <tr>\n",
       "      <th>T_CD4+_TfH</th>\n",
       "      <td>352</td>\n",
       "      <td>0.132156</td>\n",
       "    </tr>\n",
       "    <tr>\n",
       "      <th>T_CD4+_TfH_GC</th>\n",
       "      <td>1708</td>\n",
       "      <td>0.184193</td>\n",
       "    </tr>\n",
       "    <tr>\n",
       "      <th>T_CD4+_naive</th>\n",
       "      <td>9265</td>\n",
       "      <td>0.132092</td>\n",
       "    </tr>\n",
       "    <tr>\n",
       "      <th>T_CD8+_CD161+</th>\n",
       "      <td>74</td>\n",
       "      <td>0.128555</td>\n",
       "    </tr>\n",
       "    <tr>\n",
       "      <th>T_CD8+_cytotoxic</th>\n",
       "      <td>1647</td>\n",
       "      <td>0.226286</td>\n",
       "    </tr>\n",
       "    <tr>\n",
       "      <th>T_CD8+_naive</th>\n",
       "      <td>4701</td>\n",
       "      <td>0.180007</td>\n",
       "    </tr>\n",
       "    <tr>\n",
       "      <th>T_TIM3+</th>\n",
       "      <td>4632</td>\n",
       "      <td>0.230333</td>\n",
       "    </tr>\n",
       "    <tr>\n",
       "      <th>T_TfR</th>\n",
       "      <td>998</td>\n",
       "      <td>0.189059</td>\n",
       "    </tr>\n",
       "    <tr>\n",
       "      <th>T_Treg</th>\n",
       "      <td>1793</td>\n",
       "      <td>0.187544</td>\n",
       "    </tr>\n",
       "    <tr>\n",
       "      <th>VSMC</th>\n",
       "      <td>16298</td>\n",
       "      <td>0.480438</td>\n",
       "    </tr>\n",
       "  </tbody>\n",
       "</table>\n",
       "</div>"
      ],
      "text/plain": [
       "                   size    median\n",
       "cell_type                        \n",
       "B_Cycling          2664  0.276757\n",
       "B_GC_DZ            2464  0.455406\n",
       "B_GC_LZ            3701  0.517601\n",
       "B_GC_prePB          336  0.266923\n",
       "B_IFN              1231  0.211145\n",
       "B_activated         483  0.187523\n",
       "B_mem              5843  0.216895\n",
       "B_naive            2470  0.172650\n",
       "B_plasma           4028  0.671174\n",
       "B_preGC             962  0.211661\n",
       "DC_CCR7+           2256  0.497033\n",
       "DC_cDC1             682  0.434837\n",
       "DC_cDC2            2493  0.525255\n",
       "DC_pDC             2990  0.629343\n",
       "Endo              16704  0.719525\n",
       "FDC                2148  0.334314\n",
       "ILC                 247  0.197943\n",
       "Macrophages_M1     3815  0.422615\n",
       "Macrophages_M2     8061  0.480202\n",
       "Mast                484  0.396882\n",
       "Monocytes           732  0.496645\n",
       "NK                  980  0.377642\n",
       "NKT                 244  0.146915\n",
       "T_CD4+             1271  0.159819\n",
       "T_CD4+_TfH          352  0.132156\n",
       "T_CD4+_TfH_GC      1708  0.184193\n",
       "T_CD4+_naive       9265  0.132092\n",
       "T_CD8+_CD161+        74  0.128555\n",
       "T_CD8+_cytotoxic   1647  0.226286\n",
       "T_CD8+_naive       4701  0.180007\n",
       "T_TIM3+            4632  0.230333\n",
       "T_TfR               998  0.189059\n",
       "T_Treg             1793  0.187544\n",
       "VSMC              16298  0.480438"
      ]
     },
     "execution_count": 16,
     "metadata": {},
     "output_type": "execute_result"
    }
   ],
   "source": [
    "## infer\n",
    "ad_sp_chunk = mod.export_posterior(ad_sp_chunk, use_quantiles=True, add_to_obsm=['q05'])\n",
    "q05_df = ad_sp_chunk.obsm['q05_cell_abundance_w_sf']\n",
    "q05_df.columns = [x.replace('q05cell_abundance_w_sf_', '') for x in q05_df.columns]\n",
    "q05 = q05_df.values\n",
    "q05_norm = q05 / q05.sum(1)[:,None]\n",
    "q05_ct_df = pd.DataFrame(q05_norm, columns = q05_df.columns)\n",
    "q05_ct_df['cell_type'] = q05_df.columns[q05_df.values.argmax(1)]\n",
    "q05_ct_df['cell_type'] = q05_ct_df['cell_type'].astype('category')\n",
    "all_cts = q05_ct_df['cell_type'].cat.categories.tolist()\n",
    "q05_ct_df['max_abun'] = q05.max(1)\n",
    "q05_ct_df['max_norm'] = q05_norm.max(1)\n",
    "q05_ct_df['x'] = ad_sp_chunk.obs['x'].values\n",
    "q05_ct_df['y'] = ad_sp_chunk.obs['y'].values\n",
    "q05_ct_df['cell_id'] = ad_sp_chunk.obs['cell_id'].values\n",
    "q05_ct_df.set_index(ad_sp_chunk.obs.index, inplace=True)\n",
    "q05_ct_df.groupby('cell_type')['max_norm'].agg(['size', 'median'])"
   ]
  },
  {
   "cell_type": "code",
   "execution_count": 17,
   "id": "f6e8f0c9-b128-47e4-9a00-f45572300f6a",
   "metadata": {},
   "outputs": [],
   "source": [
    "## save qc info\n",
    "q05_ct_df.to_csv(f'{data_dir}/cell2location_info_crop3_chunk2.csv', sep='\\t', index=True)"
   ]
  },
  {
   "cell_type": "code",
   "execution_count": null,
   "id": "9a195bcb-cfd8-4532-9b3b-ee8b6c3cc834",
   "metadata": {},
   "outputs": [],
   "source": []
  },
  {
   "cell_type": "code",
   "execution_count": null,
   "id": "9a46eefe-8983-4d69-ad58-40b6baaff43f",
   "metadata": {},
   "outputs": [],
   "source": []
  }
 ],
 "metadata": {
  "kernelspec": {
   "display_name": "cell2loc",
   "language": "python",
   "name": "cell2loc_env"
  },
  "language_info": {
   "codemirror_mode": {
    "name": "ipython",
    "version": 3
   },
   "file_extension": ".py",
   "mimetype": "text/x-python",
   "name": "python",
   "nbconvert_exporter": "python",
   "pygments_lexer": "ipython3",
   "version": "3.10.16"
  }
 },
 "nbformat": 4,
 "nbformat_minor": 5
}
